{
 "cells": [
  {
   "cell_type": "code",
   "execution_count": 1,
   "metadata": {
    "id": "igMyGnjE9hEp"
   },
   "outputs": [
    {
     "name": "stdout",
     "output_type": "stream",
     "text": [
      "WARNING:tensorflow:From C:\\Users\\metua\\anaconda3\\Lib\\site-packages\\keras\\src\\losses.py:2976: The name tf.losses.sparse_softmax_cross_entropy is deprecated. Please use tf.compat.v1.losses.sparse_softmax_cross_entropy instead.\n",
      "\n"
     ]
    }
   ],
   "source": [
    "import csv\n",
    "\n",
    "import numpy as np\n",
    "import tensorflow as tf\n",
    "from sklearn.model_selection import train_test_split\n",
    "\n",
    "RANDOM_SEED = 42"
   ]
  },
  {
   "cell_type": "markdown",
   "metadata": {
    "id": "t2HDvhIu9hEr"
   },
   "source": [
    "# Specify each path"
   ]
  },
  {
   "cell_type": "code",
   "execution_count": 2,
   "metadata": {
    "id": "9NvZP2Zn9hEy"
   },
   "outputs": [],
   "source": [
    "dataset = \"C:/Users/metua/OneDrive/Документы/KBTU/Master's thesis/thesis project/hand-gesture-recognition-mediapipe/model/keypoint_classifier/keypoint.csv\"\n",
    "\n",
    "model_save_path = 'model/keypoint_classifier/keypoint_classifier.hdf5'\n",
    "tflite_save_path = 'model/keypoint_classifier/keypoint_classifier.tflite'"
   ]
  },
  {
   "cell_type": "markdown",
   "metadata": {
    "id": "s5oMH7x19hEz"
   },
   "source": [
    "# Set number of classes"
   ]
  },
  {
   "cell_type": "code",
   "execution_count": 3,
   "metadata": {
    "id": "du4kodXL9hEz"
   },
   "outputs": [],
   "source": [
    "NUM_CLASSES = 24"
   ]
  },
  {
   "cell_type": "markdown",
   "metadata": {
    "id": "XjnL0uso9hEz"
   },
   "source": [
    "# Dataset reading"
   ]
  },
  {
   "cell_type": "code",
   "execution_count": 4,
   "metadata": {
    "id": "QT5ZqtEz9hE0"
   },
   "outputs": [],
   "source": [
    "X_dataset = np.loadtxt(dataset, delimiter=',', dtype='float32', usecols=list(range(1, (21 * 2) + 1)))"
   ]
  },
  {
   "cell_type": "code",
   "execution_count": 5,
   "metadata": {
    "id": "QmoKFsp49hE0"
   },
   "outputs": [],
   "source": [
    "y_dataset = np.loadtxt(dataset, delimiter=',', dtype='int32', usecols=(0))"
   ]
  },
  {
   "cell_type": "code",
   "execution_count": 6,
   "metadata": {
    "id": "xQU7JTZ_9hE0"
   },
   "outputs": [],
   "source": [
    "X_train, X_test, y_train, y_test = train_test_split(X_dataset, y_dataset, train_size=0.75, random_state=RANDOM_SEED)"
   ]
  },
  {
   "cell_type": "markdown",
   "metadata": {
    "id": "mxK_lETT9hE0"
   },
   "source": [
    "# Model building"
   ]
  },
  {
   "cell_type": "code",
   "execution_count": 7,
   "metadata": {
    "id": "vHBmUf1t9hE1"
   },
   "outputs": [
    {
     "name": "stdout",
     "output_type": "stream",
     "text": [
      "WARNING:tensorflow:From C:\\Users\\metua\\anaconda3\\Lib\\site-packages\\keras\\src\\backend.py:1398: The name tf.executing_eagerly_outside_functions is deprecated. Please use tf.compat.v1.executing_eagerly_outside_functions instead.\n",
      "\n"
     ]
    }
   ],
   "source": [
    "# model = tf.keras.models.Sequential([\n",
    "#     tf.keras.layers.Input((21 * 2, )),\n",
    "#     tf.keras.layers.Dropout(0.2),\n",
    "#     tf.keras.layers.Dense(20, activation='relu'),\n",
    "#     tf.keras.layers.Dropout(0.4),\n",
    "#     tf.keras.layers.Dense(10, activation='relu'),\n",
    "#     tf.keras.layers.Dense(NUM_CLASSES, activation='softmax')\n",
    "# ])\n",
    "\n",
    "model =  tf.keras.models.Sequential([\n",
    "     tf.keras.layers.Input((21 * 2, )),\n",
    "    \n",
    "    # First dense layer with batch normalization and dropout\n",
    "     tf.keras.layers.Dense(100, activation=None),\n",
    "     tf.keras.layers.BatchNormalization(),\n",
    "     tf.keras.layers.ReLU(),\n",
    "     tf.keras.layers.Dropout(0.2),\n",
    "    \n",
    "    # Second dense layer with batch normalization and dropout\n",
    "     tf.keras.layers.Dense(50, activation=None),\n",
    "     tf.keras.layers.BatchNormalization(),\n",
    "     tf.keras.layers.ReLU(),\n",
    "     tf.keras.layers.Dropout(0.2),\n",
    "    \n",
    "    # Third dense layer with batch normalization and dropout\n",
    "     tf.keras.layers.Dense(20, activation=None),\n",
    "     tf.keras.layers.BatchNormalization(),\n",
    "     tf.keras.layers.ReLU(),\n",
    "     tf.keras.layers.Dropout(0.2),\n",
    "    \n",
    "    # Output layer\n",
    "     tf.keras.layers.Dense(NUM_CLASSES, activation='softmax')\n",
    "])"
   ]
  },
  {
   "cell_type": "code",
   "execution_count": 8,
   "metadata": {
    "colab": {
     "base_uri": "https://localhost:8080/"
    },
    "id": "ypqky9tc9hE1",
    "outputId": "5db082bb-30e3-4110-bf63-a1ee777ecd46"
   },
   "outputs": [
    {
     "name": "stdout",
     "output_type": "stream",
     "text": [
      "Model: \"sequential\"\n",
      "_________________________________________________________________\n",
      " Layer (type)                Output Shape              Param #   \n",
      "=================================================================\n",
      " dense (Dense)               (None, 100)               4300      \n",
      "                                                                 \n",
      " batch_normalization (Batch  (None, 100)               400       \n",
      " Normalization)                                                  \n",
      "                                                                 \n",
      " re_lu (ReLU)                (None, 100)               0         \n",
      "                                                                 \n",
      " dropout (Dropout)           (None, 100)               0         \n",
      "                                                                 \n",
      " dense_1 (Dense)             (None, 50)                5050      \n",
      "                                                                 \n",
      " batch_normalization_1 (Bat  (None, 50)                200       \n",
      " chNormalization)                                                \n",
      "                                                                 \n",
      " re_lu_1 (ReLU)              (None, 50)                0         \n",
      "                                                                 \n",
      " dropout_1 (Dropout)         (None, 50)                0         \n",
      "                                                                 \n",
      " dense_2 (Dense)             (None, 20)                1020      \n",
      "                                                                 \n",
      " batch_normalization_2 (Bat  (None, 20)                80        \n",
      " chNormalization)                                                \n",
      "                                                                 \n",
      " re_lu_2 (ReLU)              (None, 20)                0         \n",
      "                                                                 \n",
      " dropout_2 (Dropout)         (None, 20)                0         \n",
      "                                                                 \n",
      " dense_3 (Dense)             (None, 24)                504       \n",
      "                                                                 \n",
      "=================================================================\n",
      "Total params: 11554 (45.13 KB)\n",
      "Trainable params: 11214 (43.80 KB)\n",
      "Non-trainable params: 340 (1.33 KB)\n",
      "_________________________________________________________________\n"
     ]
    }
   ],
   "source": [
    "model.summary()  # tf.keras.utils.plot_model(model, show_shapes=True)"
   ]
  },
  {
   "cell_type": "code",
   "execution_count": 9,
   "metadata": {
    "id": "MbMjOflQ9hE1"
   },
   "outputs": [],
   "source": [
    "# Model checkpoint callback\n",
    "cp_callback = tf.keras.callbacks.ModelCheckpoint(\n",
    "    model_save_path, verbose=1, save_weights_only=False)\n",
    "# Callback for early stopping\n",
    "es_callback = tf.keras.callbacks.EarlyStopping(patience=20, verbose=1)"
   ]
  },
  {
   "cell_type": "code",
   "execution_count": 10,
   "metadata": {
    "id": "c3Dac0M_9hE2"
   },
   "outputs": [
    {
     "name": "stdout",
     "output_type": "stream",
     "text": [
      "WARNING:tensorflow:From C:\\Users\\metua\\anaconda3\\Lib\\site-packages\\keras\\src\\optimizers\\__init__.py:309: The name tf.train.Optimizer is deprecated. Please use tf.compat.v1.train.Optimizer instead.\n",
      "\n"
     ]
    }
   ],
   "source": [
    "# Model compilation\n",
    "model.compile(\n",
    "    optimizer='adam',\n",
    "    loss='sparse_categorical_crossentropy',\n",
    "    metrics=['accuracy']\n",
    ")"
   ]
  },
  {
   "cell_type": "markdown",
   "metadata": {
    "id": "7XI0j1Iu9hE2"
   },
   "source": [
    "# Model training"
   ]
  },
  {
   "cell_type": "code",
   "execution_count": 11,
   "metadata": {
    "colab": {
     "base_uri": "https://localhost:8080/"
    },
    "id": "WirBl-JE9hE3",
    "outputId": "71b30ca2-8294-4d9d-8aa2-800d90d399de",
    "scrolled": true
   },
   "outputs": [
    {
     "name": "stdout",
     "output_type": "stream",
     "text": [
      "Epoch 1/1500\n",
      "WARNING:tensorflow:From C:\\Users\\metua\\anaconda3\\Lib\\site-packages\\keras\\src\\utils\\tf_utils.py:492: The name tf.ragged.RaggedTensorValue is deprecated. Please use tf.compat.v1.ragged.RaggedTensorValue instead.\n",
      "\n",
      "WARNING:tensorflow:From C:\\Users\\metua\\anaconda3\\Lib\\site-packages\\keras\\src\\engine\\base_layer_utils.py:384: The name tf.executing_eagerly_outside_functions is deprecated. Please use tf.compat.v1.executing_eagerly_outside_functions instead.\n",
      "\n",
      "18/22 [=======================>......] - ETA: 0s - loss: 3.1295 - accuracy: 0.1098\n",
      "Epoch 1: saving model to model/keypoint_classifier\\keypoint_classifier.hdf5\n",
      "22/22 [==============================] - 6s 47ms/step - loss: 3.0957 - accuracy: 0.1171 - val_loss: 3.0824 - val_accuracy: 0.1377\n",
      "Epoch 2/1500\n",
      " 9/22 [===========>..................] - ETA: 0s - loss: 2.8408 - accuracy: 0.1866"
     ]
    },
    {
     "name": "stderr",
     "output_type": "stream",
     "text": [
      "C:\\Users\\metua\\anaconda3\\Lib\\site-packages\\keras\\src\\engine\\training.py:3103: UserWarning: You are saving your model as an HDF5 file via `model.save()`. This file format is considered legacy. We recommend using instead the native Keras format, e.g. `model.save('my_model.keras')`.\n",
      "  saving_api.save_model(\n"
     ]
    },
    {
     "name": "stdout",
     "output_type": "stream",
     "text": [
      "16/22 [====================>.........] - ETA: 0s - loss: 2.7930 - accuracy: 0.1895\n",
      "Epoch 2: saving model to model/keypoint_classifier\\keypoint_classifier.hdf5\n",
      "22/22 [==============================] - 0s 15ms/step - loss: 2.7664 - accuracy: 0.1999 - val_loss: 2.9873 - val_accuracy: 0.1825\n",
      "Epoch 3/1500\n",
      "15/22 [===================>..........] - ETA: 0s - loss: 2.6108 - accuracy: 0.2797\n",
      "Epoch 3: saving model to model/keypoint_classifier\\keypoint_classifier.hdf5\n",
      "22/22 [==============================] - 0s 15ms/step - loss: 2.5728 - accuracy: 0.2965 - val_loss: 2.8840 - val_accuracy: 0.2831\n",
      "Epoch 4/1500\n",
      "16/22 [====================>.........] - ETA: 0s - loss: 2.3874 - accuracy: 0.3550\n",
      "Epoch 4: saving model to model/keypoint_classifier\\keypoint_classifier.hdf5\n",
      "22/22 [==============================] - 0s 16ms/step - loss: 2.3761 - accuracy: 0.3552 - val_loss: 2.7524 - val_accuracy: 0.3093\n",
      "Epoch 5/1500\n",
      "15/22 [===================>..........] - ETA: 0s - loss: 2.2163 - accuracy: 0.3932\n",
      "Epoch 5: saving model to model/keypoint_classifier\\keypoint_classifier.hdf5\n",
      "22/22 [==============================] - 0s 16ms/step - loss: 2.2029 - accuracy: 0.3982 - val_loss: 2.6338 - val_accuracy: 0.3158\n",
      "Epoch 6/1500\n",
      "16/22 [====================>.........] - ETA: 0s - loss: 2.0789 - accuracy: 0.4307\n",
      "Epoch 6: saving model to model/keypoint_classifier\\keypoint_classifier.hdf5\n",
      "22/22 [==============================] - 0s 16ms/step - loss: 2.0575 - accuracy: 0.4325 - val_loss: 2.4943 - val_accuracy: 0.3617\n",
      "Epoch 7/1500\n",
      "16/22 [====================>.........] - ETA: 0s - loss: 1.9565 - accuracy: 0.4438\n",
      "Epoch 7: saving model to model/keypoint_classifier\\keypoint_classifier.hdf5\n",
      "22/22 [==============================] - 0s 15ms/step - loss: 1.9478 - accuracy: 0.4475 - val_loss: 2.3499 - val_accuracy: 0.3934\n",
      "Epoch 8/1500\n",
      "18/22 [=======================>......] - ETA: 0s - loss: 1.8423 - accuracy: 0.4800\n",
      "Epoch 8: saving model to model/keypoint_classifier\\keypoint_classifier.hdf5\n",
      "22/22 [==============================] - 0s 14ms/step - loss: 1.8298 - accuracy: 0.4803 - val_loss: 2.2246 - val_accuracy: 0.4066\n",
      "Epoch 9/1500\n",
      "17/22 [======================>.......] - ETA: 0s - loss: 1.7229 - accuracy: 0.5106\n",
      "Epoch 9: saving model to model/keypoint_classifier\\keypoint_classifier.hdf5\n",
      "22/22 [==============================] - 0s 16ms/step - loss: 1.7248 - accuracy: 0.5091 - val_loss: 2.1228 - val_accuracy: 0.4273\n",
      "Epoch 10/1500\n",
      "15/22 [===================>..........] - ETA: 0s - loss: 1.6789 - accuracy: 0.5078\n",
      "Epoch 10: saving model to model/keypoint_classifier\\keypoint_classifier.hdf5\n",
      "22/22 [==============================] - 0s 16ms/step - loss: 1.6526 - accuracy: 0.5171 - val_loss: 1.9961 - val_accuracy: 0.4951\n",
      "Epoch 11/1500\n",
      "20/22 [==========================>...] - ETA: 0s - loss: 1.5675 - accuracy: 0.5605\n",
      "Epoch 11: saving model to model/keypoint_classifier\\keypoint_classifier.hdf5\n",
      "22/22 [==============================] - 0s 17ms/step - loss: 1.5637 - accuracy: 0.5631 - val_loss: 1.8822 - val_accuracy: 0.5224\n",
      "Epoch 12/1500\n",
      "16/22 [====================>.........] - ETA: 0s - loss: 1.5184 - accuracy: 0.5581\n",
      "Epoch 12: saving model to model/keypoint_classifier\\keypoint_classifier.hdf5\n",
      "22/22 [==============================] - 0s 16ms/step - loss: 1.4998 - accuracy: 0.5697 - val_loss: 1.7979 - val_accuracy: 0.5454\n",
      "Epoch 13/1500\n",
      "16/22 [====================>.........] - ETA: 0s - loss: 1.4195 - accuracy: 0.5991\n",
      "Epoch 13: saving model to model/keypoint_classifier\\keypoint_classifier.hdf5\n",
      "22/22 [==============================] - 0s 15ms/step - loss: 1.4174 - accuracy: 0.5981 - val_loss: 1.6915 - val_accuracy: 0.5945\n",
      "Epoch 14/1500\n",
      "17/22 [======================>.......] - ETA: 0s - loss: 1.3650 - accuracy: 0.6190\n",
      "Epoch 14: saving model to model/keypoint_classifier\\keypoint_classifier.hdf5\n",
      "22/22 [==============================] - 0s 15ms/step - loss: 1.3559 - accuracy: 0.6200 - val_loss: 1.5402 - val_accuracy: 0.6393\n",
      "Epoch 15/1500\n",
      "22/22 [==============================] - ETA: 0s - loss: 1.3011 - accuracy: 0.6251\n",
      "Epoch 15: saving model to model/keypoint_classifier\\keypoint_classifier.hdf5\n",
      "22/22 [==============================] - 0s 17ms/step - loss: 1.3011 - accuracy: 0.6251 - val_loss: 1.4692 - val_accuracy: 0.6601\n",
      "Epoch 16/1500\n",
      "16/22 [====================>.........] - ETA: 0s - loss: 1.2749 - accuracy: 0.6421\n",
      "Epoch 16: saving model to model/keypoint_classifier\\keypoint_classifier.hdf5\n",
      "22/22 [==============================] - 0s 15ms/step - loss: 1.2589 - accuracy: 0.6455 - val_loss: 1.3353 - val_accuracy: 0.6743\n",
      "Epoch 17/1500\n",
      "17/22 [======================>.......] - ETA: 0s - loss: 1.1940 - accuracy: 0.6627\n",
      "Epoch 17: saving model to model/keypoint_classifier\\keypoint_classifier.hdf5\n",
      "22/22 [==============================] - 0s 15ms/step - loss: 1.1881 - accuracy: 0.6703 - val_loss: 1.2528 - val_accuracy: 0.6940\n",
      "Epoch 18/1500\n",
      "15/22 [===================>..........] - ETA: 0s - loss: 1.1823 - accuracy: 0.6573\n",
      "Epoch 18: saving model to model/keypoint_classifier\\keypoint_classifier.hdf5\n",
      "22/22 [==============================] - 0s 16ms/step - loss: 1.1632 - accuracy: 0.6627 - val_loss: 1.1821 - val_accuracy: 0.6940\n",
      "Epoch 19/1500\n",
      "17/22 [======================>.......] - ETA: 0s - loss: 1.1084 - accuracy: 0.6673\n",
      "Epoch 19: saving model to model/keypoint_classifier\\keypoint_classifier.hdf5\n",
      "22/22 [==============================] - 0s 15ms/step - loss: 1.1265 - accuracy: 0.6608 - val_loss: 1.0815 - val_accuracy: 0.7126\n",
      "Epoch 20/1500\n",
      "17/22 [======================>.......] - ETA: 0s - loss: 1.0507 - accuracy: 0.6875\n",
      "Epoch 20: saving model to model/keypoint_classifier\\keypoint_classifier.hdf5\n",
      "22/22 [==============================] - 0s 14ms/step - loss: 1.0560 - accuracy: 0.6849 - val_loss: 1.0327 - val_accuracy: 0.7224\n",
      "Epoch 21/1500\n",
      "15/22 [===================>..........] - ETA: 0s - loss: 1.0333 - accuracy: 0.6823\n",
      "Epoch 21: saving model to model/keypoint_classifier\\keypoint_classifier.hdf5\n",
      "22/22 [==============================] - 0s 17ms/step - loss: 1.0297 - accuracy: 0.6842 - val_loss: 0.9705 - val_accuracy: 0.7344\n",
      "Epoch 22/1500\n",
      "17/22 [======================>.......] - ETA: 0s - loss: 1.0114 - accuracy: 0.6926\n",
      "Epoch 22: saving model to model/keypoint_classifier\\keypoint_classifier.hdf5\n",
      "22/22 [==============================] - 0s 15ms/step - loss: 0.9986 - accuracy: 0.6929 - val_loss: 0.9311 - val_accuracy: 0.7421\n",
      "Epoch 23/1500\n",
      "16/22 [====================>.........] - ETA: 0s - loss: 0.9789 - accuracy: 0.7002\n",
      "Epoch 23: saving model to model/keypoint_classifier\\keypoint_classifier.hdf5\n",
      "22/22 [==============================] - 0s 15ms/step - loss: 0.9908 - accuracy: 0.6929 - val_loss: 0.8790 - val_accuracy: 0.7388\n",
      "Epoch 24/1500\n",
      "18/22 [=======================>......] - ETA: 0s - loss: 0.9649 - accuracy: 0.6984\n",
      "Epoch 24: saving model to model/keypoint_classifier\\keypoint_classifier.hdf5\n",
      "22/22 [==============================] - 0s 18ms/step - loss: 0.9538 - accuracy: 0.7002 - val_loss: 0.8723 - val_accuracy: 0.7432\n",
      "Epoch 25/1500\n",
      "16/22 [====================>.........] - ETA: 0s - loss: 0.9533 - accuracy: 0.7021\n",
      "Epoch 25: saving model to model/keypoint_classifier\\keypoint_classifier.hdf5\n",
      "22/22 [==============================] - 0s 15ms/step - loss: 0.9566 - accuracy: 0.6947 - val_loss: 0.8198 - val_accuracy: 0.7617\n",
      "Epoch 26/1500\n",
      "17/22 [======================>.......] - ETA: 0s - loss: 0.9382 - accuracy: 0.7059\n",
      "Epoch 26: saving model to model/keypoint_classifier\\keypoint_classifier.hdf5\n",
      "22/22 [==============================] - 0s 15ms/step - loss: 0.9343 - accuracy: 0.7046 - val_loss: 0.7881 - val_accuracy: 0.7475\n",
      "Epoch 27/1500\n",
      "18/22 [=======================>......] - ETA: 0s - loss: 0.9110 - accuracy: 0.7096\n",
      "Epoch 27: saving model to model/keypoint_classifier\\keypoint_classifier.hdf5\n",
      "22/22 [==============================] - 0s 15ms/step - loss: 0.9061 - accuracy: 0.7133 - val_loss: 0.7852 - val_accuracy: 0.7552\n",
      "Epoch 28/1500\n",
      "18/22 [=======================>......] - ETA: 0s - loss: 0.9014 - accuracy: 0.7088\n",
      "Epoch 28: saving model to model/keypoint_classifier\\keypoint_classifier.hdf5\n",
      "22/22 [==============================] - 0s 14ms/step - loss: 0.8906 - accuracy: 0.7137 - val_loss: 0.7694 - val_accuracy: 0.7617\n",
      "Epoch 29/1500\n",
      "17/22 [======================>.......] - ETA: 0s - loss: 0.8772 - accuracy: 0.7174\n",
      "Epoch 29: saving model to model/keypoint_classifier\\keypoint_classifier.hdf5\n",
      "22/22 [==============================] - 0s 15ms/step - loss: 0.8798 - accuracy: 0.7159 - val_loss: 0.7674 - val_accuracy: 0.7530\n",
      "Epoch 30/1500\n",
      "17/22 [======================>.......] - ETA: 0s - loss: 0.8444 - accuracy: 0.7155\n",
      "Epoch 30: saving model to model/keypoint_classifier\\keypoint_classifier.hdf5\n",
      "22/22 [==============================] - 0s 15ms/step - loss: 0.8495 - accuracy: 0.7133 - val_loss: 0.7460 - val_accuracy: 0.7639\n",
      "Epoch 31/1500\n",
      "17/22 [======================>.......] - ETA: 0s - loss: 0.8420 - accuracy: 0.7307\n",
      "Epoch 31: saving model to model/keypoint_classifier\\keypoint_classifier.hdf5\n",
      "22/22 [==============================] - 0s 14ms/step - loss: 0.8403 - accuracy: 0.7250 - val_loss: 0.7256 - val_accuracy: 0.7705\n",
      "Epoch 32/1500\n",
      "16/22 [====================>.........] - ETA: 0s - loss: 0.8320 - accuracy: 0.7271\n",
      "Epoch 32: saving model to model/keypoint_classifier\\keypoint_classifier.hdf5\n",
      "22/22 [==============================] - 0s 15ms/step - loss: 0.8389 - accuracy: 0.7239 - val_loss: 0.7147 - val_accuracy: 0.7574\n",
      "Epoch 33/1500\n",
      "17/22 [======================>.......] - ETA: 0s - loss: 0.8363 - accuracy: 0.7229\n",
      "Epoch 33: saving model to model/keypoint_classifier\\keypoint_classifier.hdf5\n",
      "22/22 [==============================] - 0s 15ms/step - loss: 0.8352 - accuracy: 0.7257 - val_loss: 0.7130 - val_accuracy: 0.7552\n",
      "Epoch 34/1500\n",
      "15/22 [===================>..........] - ETA: 0s - loss: 0.8029 - accuracy: 0.7323\n",
      "Epoch 34: saving model to model/keypoint_classifier\\keypoint_classifier.hdf5\n",
      "22/22 [==============================] - 0s 15ms/step - loss: 0.7953 - accuracy: 0.7327 - val_loss: 0.7032 - val_accuracy: 0.7716\n",
      "Epoch 35/1500\n",
      "17/22 [======================>.......] - ETA: 0s - loss: 0.8163 - accuracy: 0.7302\n",
      "Epoch 35: saving model to model/keypoint_classifier\\keypoint_classifier.hdf5\n",
      "22/22 [==============================] - 0s 15ms/step - loss: 0.8078 - accuracy: 0.7334 - val_loss: 0.6887 - val_accuracy: 0.7727\n",
      "Epoch 36/1500\n",
      "17/22 [======================>.......] - ETA: 0s - loss: 0.7818 - accuracy: 0.7325\n",
      "Epoch 36: saving model to model/keypoint_classifier\\keypoint_classifier.hdf5\n",
      "22/22 [==============================] - 0s 14ms/step - loss: 0.7860 - accuracy: 0.7319 - val_loss: 0.6876 - val_accuracy: 0.7683\n",
      "Epoch 37/1500\n",
      "15/22 [===================>..........] - ETA: 0s - loss: 0.7738 - accuracy: 0.7333\n",
      "Epoch 37: saving model to model/keypoint_classifier\\keypoint_classifier.hdf5\n",
      "22/22 [==============================] - 0s 15ms/step - loss: 0.7785 - accuracy: 0.7371 - val_loss: 0.6742 - val_accuracy: 0.7749\n",
      "Epoch 38/1500\n",
      "17/22 [======================>.......] - ETA: 0s - loss: 0.7714 - accuracy: 0.7463\n",
      "Epoch 38: saving model to model/keypoint_classifier\\keypoint_classifier.hdf5\n",
      "22/22 [==============================] - 0s 15ms/step - loss: 0.7689 - accuracy: 0.7491 - val_loss: 0.6651 - val_accuracy: 0.7672\n",
      "Epoch 39/1500\n",
      "17/22 [======================>.......] - ETA: 0s - loss: 0.7425 - accuracy: 0.7422\n",
      "Epoch 39: saving model to model/keypoint_classifier\\keypoint_classifier.hdf5\n",
      "22/22 [==============================] - 0s 14ms/step - loss: 0.7503 - accuracy: 0.7392 - val_loss: 0.6777 - val_accuracy: 0.7574\n",
      "Epoch 40/1500\n",
      "17/22 [======================>.......] - ETA: 0s - loss: 0.7564 - accuracy: 0.7376\n",
      "Epoch 40: saving model to model/keypoint_classifier\\keypoint_classifier.hdf5\n",
      "22/22 [==============================] - 0s 15ms/step - loss: 0.7647 - accuracy: 0.7378 - val_loss: 0.6571 - val_accuracy: 0.7727\n",
      "Epoch 41/1500\n",
      "18/22 [=======================>......] - ETA: 0s - loss: 0.7529 - accuracy: 0.7470\n",
      "Epoch 41: saving model to model/keypoint_classifier\\keypoint_classifier.hdf5\n",
      "22/22 [==============================] - 0s 14ms/step - loss: 0.7525 - accuracy: 0.7458 - val_loss: 0.6671 - val_accuracy: 0.7705\n",
      "Epoch 42/1500\n",
      "19/22 [========================>.....] - ETA: 0s - loss: 0.7153 - accuracy: 0.7479\n",
      "Epoch 42: saving model to model/keypoint_classifier\\keypoint_classifier.hdf5\n",
      "22/22 [==============================] - 0s 14ms/step - loss: 0.7272 - accuracy: 0.7436 - val_loss: 0.6542 - val_accuracy: 0.7716\n",
      "Epoch 43/1500\n",
      "18/22 [=======================>......] - ETA: 0s - loss: 0.7455 - accuracy: 0.7387\n",
      "Epoch 43: saving model to model/keypoint_classifier\\keypoint_classifier.hdf5\n",
      "22/22 [==============================] - 0s 13ms/step - loss: 0.7356 - accuracy: 0.7381 - val_loss: 0.6476 - val_accuracy: 0.7585\n",
      "Epoch 44/1500\n",
      "18/22 [=======================>......] - ETA: 0s - loss: 0.7472 - accuracy: 0.7352\n",
      "Epoch 44: saving model to model/keypoint_classifier\\keypoint_classifier.hdf5\n",
      "22/22 [==============================] - 0s 14ms/step - loss: 0.7513 - accuracy: 0.7378 - val_loss: 0.6542 - val_accuracy: 0.7814\n",
      "Epoch 45/1500\n",
      "16/22 [====================>.........] - ETA: 0s - loss: 0.7237 - accuracy: 0.7529\n",
      "Epoch 45: saving model to model/keypoint_classifier\\keypoint_classifier.hdf5\n",
      "22/22 [==============================] - 0s 14ms/step - loss: 0.7140 - accuracy: 0.7553 - val_loss: 0.6337 - val_accuracy: 0.7738\n",
      "Epoch 46/1500\n",
      "18/22 [=======================>......] - ETA: 0s - loss: 0.7169 - accuracy: 0.7517\n",
      "Epoch 46: saving model to model/keypoint_classifier\\keypoint_classifier.hdf5\n",
      "22/22 [==============================] - 0s 14ms/step - loss: 0.7102 - accuracy: 0.7527 - val_loss: 0.6397 - val_accuracy: 0.7902\n",
      "Epoch 47/1500\n",
      "17/22 [======================>.......] - ETA: 0s - loss: 0.6888 - accuracy: 0.7606\n",
      "Epoch 47: saving model to model/keypoint_classifier\\keypoint_classifier.hdf5\n",
      "22/22 [==============================] - 0s 14ms/step - loss: 0.7024 - accuracy: 0.7578 - val_loss: 0.6477 - val_accuracy: 0.7694\n",
      "Epoch 48/1500\n",
      "17/22 [======================>.......] - ETA: 0s - loss: 0.6779 - accuracy: 0.7642\n",
      "Epoch 48: saving model to model/keypoint_classifier\\keypoint_classifier.hdf5\n",
      "22/22 [==============================] - 0s 15ms/step - loss: 0.6901 - accuracy: 0.7604 - val_loss: 0.6303 - val_accuracy: 0.7727\n",
      "Epoch 49/1500\n",
      "17/22 [======================>.......] - ETA: 0s - loss: 0.7094 - accuracy: 0.7597\n",
      "Epoch 49: saving model to model/keypoint_classifier\\keypoint_classifier.hdf5\n",
      "22/22 [==============================] - 0s 16ms/step - loss: 0.7031 - accuracy: 0.7582 - val_loss: 0.6225 - val_accuracy: 0.7694\n",
      "Epoch 50/1500\n",
      "16/22 [====================>.........] - ETA: 0s - loss: 0.6771 - accuracy: 0.7651\n",
      "Epoch 50: saving model to model/keypoint_classifier\\keypoint_classifier.hdf5\n",
      "22/22 [==============================] - 0s 16ms/step - loss: 0.6804 - accuracy: 0.7567 - val_loss: 0.6205 - val_accuracy: 0.7749\n",
      "Epoch 51/1500\n",
      "18/22 [=======================>......] - ETA: 0s - loss: 0.6871 - accuracy: 0.7648\n",
      "Epoch 51: saving model to model/keypoint_classifier\\keypoint_classifier.hdf5\n",
      "22/22 [==============================] - 0s 14ms/step - loss: 0.6860 - accuracy: 0.7633 - val_loss: 0.6281 - val_accuracy: 0.7803\n",
      "Epoch 52/1500\n",
      "20/22 [==========================>...] - ETA: 0s - loss: 0.6890 - accuracy: 0.7598\n",
      "Epoch 52: saving model to model/keypoint_classifier\\keypoint_classifier.hdf5\n",
      "22/22 [==============================] - 0s 18ms/step - loss: 0.6864 - accuracy: 0.7575 - val_loss: 0.6188 - val_accuracy: 0.7672\n",
      "Epoch 53/1500\n",
      "18/22 [=======================>......] - ETA: 0s - loss: 0.6546 - accuracy: 0.7661\n",
      "Epoch 53: saving model to model/keypoint_classifier\\keypoint_classifier.hdf5\n",
      "22/22 [==============================] - 0s 14ms/step - loss: 0.6581 - accuracy: 0.7648 - val_loss: 0.6191 - val_accuracy: 0.7749\n",
      "Epoch 54/1500\n",
      "22/22 [==============================] - ETA: 0s - loss: 0.7086 - accuracy: 0.7505\n",
      "Epoch 54: saving model to model/keypoint_classifier\\keypoint_classifier.hdf5\n",
      "22/22 [==============================] - 0s 17ms/step - loss: 0.7086 - accuracy: 0.7505 - val_loss: 0.6250 - val_accuracy: 0.7792\n",
      "Epoch 55/1500\n",
      "16/22 [====================>.........] - ETA: 0s - loss: 0.6738 - accuracy: 0.7612\n",
      "Epoch 55: saving model to model/keypoint_classifier\\keypoint_classifier.hdf5\n",
      "22/22 [==============================] - 0s 16ms/step - loss: 0.6717 - accuracy: 0.7608 - val_loss: 0.6189 - val_accuracy: 0.7738\n",
      "Epoch 56/1500\n",
      "15/22 [===================>..........] - ETA: 0s - loss: 0.6142 - accuracy: 0.7906\n",
      "Epoch 56: saving model to model/keypoint_classifier\\keypoint_classifier.hdf5\n",
      "22/22 [==============================] - 0s 16ms/step - loss: 0.6299 - accuracy: 0.7826 - val_loss: 0.6169 - val_accuracy: 0.7760\n",
      "Epoch 57/1500\n",
      "18/22 [=======================>......] - ETA: 0s - loss: 0.6572 - accuracy: 0.7609\n",
      "Epoch 57: saving model to model/keypoint_classifier\\keypoint_classifier.hdf5\n",
      "22/22 [==============================] - 0s 14ms/step - loss: 0.6552 - accuracy: 0.7608 - val_loss: 0.6248 - val_accuracy: 0.7694\n",
      "Epoch 58/1500\n",
      "18/22 [=======================>......] - ETA: 0s - loss: 0.6426 - accuracy: 0.7812\n",
      "Epoch 58: saving model to model/keypoint_classifier\\keypoint_classifier.hdf5\n",
      "22/22 [==============================] - 0s 14ms/step - loss: 0.6365 - accuracy: 0.7808 - val_loss: 0.6146 - val_accuracy: 0.7727\n",
      "Epoch 59/1500\n",
      "17/22 [======================>.......] - ETA: 0s - loss: 0.6564 - accuracy: 0.7601\n",
      "Epoch 59: saving model to model/keypoint_classifier\\keypoint_classifier.hdf5\n",
      "22/22 [==============================] - 0s 15ms/step - loss: 0.6572 - accuracy: 0.7640 - val_loss: 0.6160 - val_accuracy: 0.7683\n",
      "Epoch 60/1500\n",
      "15/22 [===================>..........] - ETA: 0s - loss: 0.6438 - accuracy: 0.7750\n",
      "Epoch 60: saving model to model/keypoint_classifier\\keypoint_classifier.hdf5\n",
      "22/22 [==============================] - 0s 16ms/step - loss: 0.6434 - accuracy: 0.7713 - val_loss: 0.6073 - val_accuracy: 0.7825\n",
      "Epoch 61/1500\n",
      "16/22 [====================>.........] - ETA: 0s - loss: 0.6532 - accuracy: 0.7783\n",
      "Epoch 61: saving model to model/keypoint_classifier\\keypoint_classifier.hdf5\n",
      "22/22 [==============================] - 0s 15ms/step - loss: 0.6594 - accuracy: 0.7699 - val_loss: 0.6018 - val_accuracy: 0.7858\n",
      "Epoch 62/1500\n",
      "15/22 [===================>..........] - ETA: 0s - loss: 0.6263 - accuracy: 0.7781\n",
      "Epoch 62: saving model to model/keypoint_classifier\\keypoint_classifier.hdf5\n",
      "22/22 [==============================] - 0s 15ms/step - loss: 0.6316 - accuracy: 0.7735 - val_loss: 0.6048 - val_accuracy: 0.7770\n",
      "Epoch 63/1500\n",
      "16/22 [====================>.........] - ETA: 0s - loss: 0.6195 - accuracy: 0.7700\n",
      "Epoch 63: saving model to model/keypoint_classifier\\keypoint_classifier.hdf5\n",
      "22/22 [==============================] - 0s 15ms/step - loss: 0.6196 - accuracy: 0.7772 - val_loss: 0.6053 - val_accuracy: 0.7814\n",
      "Epoch 64/1500\n",
      "16/22 [====================>.........] - ETA: 0s - loss: 0.6079 - accuracy: 0.7764\n",
      "Epoch 64: saving model to model/keypoint_classifier\\keypoint_classifier.hdf5\n",
      "22/22 [==============================] - 0s 15ms/step - loss: 0.6247 - accuracy: 0.7724 - val_loss: 0.6198 - val_accuracy: 0.7814\n",
      "Epoch 65/1500\n",
      "17/22 [======================>.......] - ETA: 0s - loss: 0.6239 - accuracy: 0.7711\n",
      "Epoch 65: saving model to model/keypoint_classifier\\keypoint_classifier.hdf5\n",
      "22/22 [==============================] - 0s 15ms/step - loss: 0.6196 - accuracy: 0.7724 - val_loss: 0.6365 - val_accuracy: 0.7770\n",
      "Epoch 66/1500\n",
      "21/22 [===========================>..] - ETA: 0s - loss: 0.6042 - accuracy: 0.7879\n",
      "Epoch 66: saving model to model/keypoint_classifier\\keypoint_classifier.hdf5\n",
      "22/22 [==============================] - 0s 16ms/step - loss: 0.6052 - accuracy: 0.7877 - val_loss: 0.5882 - val_accuracy: 0.7934\n",
      "Epoch 67/1500\n",
      "16/22 [====================>.........] - ETA: 0s - loss: 0.6068 - accuracy: 0.7852\n",
      "Epoch 67: saving model to model/keypoint_classifier\\keypoint_classifier.hdf5\n",
      "22/22 [==============================] - 0s 15ms/step - loss: 0.6020 - accuracy: 0.7903 - val_loss: 0.5930 - val_accuracy: 0.7781\n",
      "Epoch 68/1500\n",
      "16/22 [====================>.........] - ETA: 0s - loss: 0.6147 - accuracy: 0.7871\n",
      "Epoch 68: saving model to model/keypoint_classifier\\keypoint_classifier.hdf5\n",
      "22/22 [==============================] - 0s 15ms/step - loss: 0.6112 - accuracy: 0.7801 - val_loss: 0.5950 - val_accuracy: 0.7869\n",
      "Epoch 69/1500\n",
      "22/22 [==============================] - ETA: 0s - loss: 0.6295 - accuracy: 0.7743\n",
      "Epoch 69: saving model to model/keypoint_classifier\\keypoint_classifier.hdf5\n",
      "22/22 [==============================] - 0s 16ms/step - loss: 0.6295 - accuracy: 0.7743 - val_loss: 0.5968 - val_accuracy: 0.7836\n",
      "Epoch 70/1500\n",
      "21/22 [===========================>..] - ETA: 0s - loss: 0.6252 - accuracy: 0.7827\n",
      "Epoch 70: saving model to model/keypoint_classifier\\keypoint_classifier.hdf5\n",
      "22/22 [==============================] - 0s 16ms/step - loss: 0.6268 - accuracy: 0.7819 - val_loss: 0.5852 - val_accuracy: 0.7913\n",
      "Epoch 71/1500\n",
      "18/22 [=======================>......] - ETA: 0s - loss: 0.6223 - accuracy: 0.7834\n",
      "Epoch 71: saving model to model/keypoint_classifier\\keypoint_classifier.hdf5\n",
      "22/22 [==============================] - 0s 14ms/step - loss: 0.6119 - accuracy: 0.7797 - val_loss: 0.6124 - val_accuracy: 0.7945\n",
      "Epoch 72/1500\n",
      "17/22 [======================>.......] - ETA: 0s - loss: 0.5917 - accuracy: 0.7863\n",
      "Epoch 72: saving model to model/keypoint_classifier\\keypoint_classifier.hdf5\n",
      "22/22 [==============================] - 0s 16ms/step - loss: 0.6046 - accuracy: 0.7786 - val_loss: 0.5861 - val_accuracy: 0.7847\n",
      "Epoch 73/1500\n",
      "16/22 [====================>.........] - ETA: 0s - loss: 0.5911 - accuracy: 0.7905\n",
      "Epoch 73: saving model to model/keypoint_classifier\\keypoint_classifier.hdf5\n",
      "22/22 [==============================] - 0s 15ms/step - loss: 0.5993 - accuracy: 0.7907 - val_loss: 0.5913 - val_accuracy: 0.7956\n",
      "Epoch 74/1500\n",
      "17/22 [======================>.......] - ETA: 0s - loss: 0.5911 - accuracy: 0.7863\n",
      "Epoch 74: saving model to model/keypoint_classifier\\keypoint_classifier.hdf5\n",
      "22/22 [==============================] - 0s 15ms/step - loss: 0.5883 - accuracy: 0.7859 - val_loss: 0.5969 - val_accuracy: 0.7923\n",
      "Epoch 75/1500\n",
      "16/22 [====================>.........] - ETA: 0s - loss: 0.5961 - accuracy: 0.7837\n",
      "Epoch 75: saving model to model/keypoint_classifier\\keypoint_classifier.hdf5\n",
      "22/22 [==============================] - 0s 16ms/step - loss: 0.5977 - accuracy: 0.7841 - val_loss: 0.5890 - val_accuracy: 0.7956\n",
      "Epoch 76/1500\n",
      "15/22 [===================>..........] - ETA: 0s - loss: 0.5779 - accuracy: 0.7943\n",
      "Epoch 76: saving model to model/keypoint_classifier\\keypoint_classifier.hdf5\n",
      "22/22 [==============================] - 0s 19ms/step - loss: 0.5849 - accuracy: 0.7929 - val_loss: 0.5964 - val_accuracy: 0.7967\n",
      "Epoch 77/1500\n",
      "16/22 [====================>.........] - ETA: 0s - loss: 0.5854 - accuracy: 0.7900\n",
      "Epoch 77: saving model to model/keypoint_classifier\\keypoint_classifier.hdf5\n",
      "22/22 [==============================] - 0s 15ms/step - loss: 0.5760 - accuracy: 0.7936 - val_loss: 0.5920 - val_accuracy: 0.7945\n",
      "Epoch 78/1500\n",
      "17/22 [======================>.......] - ETA: 0s - loss: 0.5765 - accuracy: 0.8042\n",
      "Epoch 78: saving model to model/keypoint_classifier\\keypoint_classifier.hdf5\n",
      "22/22 [==============================] - 0s 14ms/step - loss: 0.5661 - accuracy: 0.8012 - val_loss: 0.5847 - val_accuracy: 0.7989\n",
      "Epoch 79/1500\n",
      "16/22 [====================>.........] - ETA: 0s - loss: 0.5826 - accuracy: 0.7871\n",
      "Epoch 79: saving model to model/keypoint_classifier\\keypoint_classifier.hdf5\n",
      "22/22 [==============================] - 0s 15ms/step - loss: 0.5750 - accuracy: 0.7910 - val_loss: 0.5776 - val_accuracy: 0.7978\n",
      "Epoch 80/1500\n",
      "16/22 [====================>.........] - ETA: 0s - loss: 0.5591 - accuracy: 0.8022\n",
      "Epoch 80: saving model to model/keypoint_classifier\\keypoint_classifier.hdf5\n",
      "22/22 [==============================] - 0s 15ms/step - loss: 0.5792 - accuracy: 0.7918 - val_loss: 0.5862 - val_accuracy: 0.7913\n",
      "Epoch 81/1500\n",
      "18/22 [=======================>......] - ETA: 0s - loss: 0.5732 - accuracy: 0.7917\n",
      "Epoch 81: saving model to model/keypoint_classifier\\keypoint_classifier.hdf5\n",
      "22/22 [==============================] - 0s 15ms/step - loss: 0.5776 - accuracy: 0.7896 - val_loss: 0.5884 - val_accuracy: 0.8033\n",
      "Epoch 82/1500\n",
      "16/22 [====================>.........] - ETA: 0s - loss: 0.5557 - accuracy: 0.8140\n",
      "Epoch 82: saving model to model/keypoint_classifier\\keypoint_classifier.hdf5\n",
      "22/22 [==============================] - 0s 15ms/step - loss: 0.5671 - accuracy: 0.8027 - val_loss: 0.5740 - val_accuracy: 0.8044\n",
      "Epoch 83/1500\n",
      "16/22 [====================>.........] - ETA: 0s - loss: 0.5482 - accuracy: 0.8105\n",
      "Epoch 83: saving model to model/keypoint_classifier\\keypoint_classifier.hdf5\n",
      "22/22 [==============================] - 0s 15ms/step - loss: 0.5513 - accuracy: 0.8093 - val_loss: 0.5920 - val_accuracy: 0.7967\n",
      "Epoch 84/1500\n",
      "15/22 [===================>..........] - ETA: 0s - loss: 0.5714 - accuracy: 0.7969\n",
      "Epoch 84: saving model to model/keypoint_classifier\\keypoint_classifier.hdf5\n",
      "22/22 [==============================] - 0s 16ms/step - loss: 0.5661 - accuracy: 0.7929 - val_loss: 0.5824 - val_accuracy: 0.7967\n",
      "Epoch 85/1500\n",
      "16/22 [====================>.........] - ETA: 0s - loss: 0.5683 - accuracy: 0.7905\n",
      "Epoch 85: saving model to model/keypoint_classifier\\keypoint_classifier.hdf5\n",
      "22/22 [==============================] - 0s 15ms/step - loss: 0.5568 - accuracy: 0.7961 - val_loss: 0.5915 - val_accuracy: 0.8033\n",
      "Epoch 86/1500\n",
      "16/22 [====================>.........] - ETA: 0s - loss: 0.5487 - accuracy: 0.8086\n",
      "Epoch 86: saving model to model/keypoint_classifier\\keypoint_classifier.hdf5\n",
      "22/22 [==============================] - 0s 15ms/step - loss: 0.5542 - accuracy: 0.8085 - val_loss: 0.5870 - val_accuracy: 0.8055\n",
      "Epoch 87/1500\n",
      "21/22 [===========================>..] - ETA: 0s - loss: 0.5638 - accuracy: 0.7972\n",
      "Epoch 87: saving model to model/keypoint_classifier\\keypoint_classifier.hdf5\n",
      "22/22 [==============================] - 0s 19ms/step - loss: 0.5631 - accuracy: 0.7983 - val_loss: 0.5754 - val_accuracy: 0.8011\n",
      "Epoch 88/1500\n",
      "16/22 [====================>.........] - ETA: 0s - loss: 0.5468 - accuracy: 0.8115\n",
      "Epoch 88: saving model to model/keypoint_classifier\\keypoint_classifier.hdf5\n",
      "22/22 [==============================] - 0s 15ms/step - loss: 0.5426 - accuracy: 0.8104 - val_loss: 0.5639 - val_accuracy: 0.7989\n",
      "Epoch 89/1500\n",
      "17/22 [======================>.......] - ETA: 0s - loss: 0.5542 - accuracy: 0.8033\n",
      "Epoch 89: saving model to model/keypoint_classifier\\keypoint_classifier.hdf5\n",
      "22/22 [==============================] - 0s 14ms/step - loss: 0.5561 - accuracy: 0.8034 - val_loss: 0.5727 - val_accuracy: 0.7956\n",
      "Epoch 90/1500\n",
      "16/22 [====================>.........] - ETA: 0s - loss: 0.5542 - accuracy: 0.7983\n",
      "Epoch 90: saving model to model/keypoint_classifier\\keypoint_classifier.hdf5\n",
      "22/22 [==============================] - 0s 15ms/step - loss: 0.5574 - accuracy: 0.7987 - val_loss: 0.5567 - val_accuracy: 0.8208\n",
      "Epoch 91/1500\n",
      "22/22 [==============================] - ETA: 0s - loss: 0.5473 - accuracy: 0.8049\n",
      "Epoch 91: saving model to model/keypoint_classifier\\keypoint_classifier.hdf5\n",
      "22/22 [==============================] - 0s 16ms/step - loss: 0.5473 - accuracy: 0.8049 - val_loss: 0.5772 - val_accuracy: 0.7934\n",
      "Epoch 92/1500\n",
      "14/22 [==================>...........] - ETA: 0s - loss: 0.5527 - accuracy: 0.7941\n",
      "Epoch 92: saving model to model/keypoint_classifier\\keypoint_classifier.hdf5\n",
      "22/22 [==============================] - 0s 16ms/step - loss: 0.5429 - accuracy: 0.8005 - val_loss: 0.5712 - val_accuracy: 0.8098\n",
      "Epoch 93/1500\n",
      "14/22 [==================>...........] - ETA: 0s - loss: 0.5153 - accuracy: 0.8058\n",
      "Epoch 93: saving model to model/keypoint_classifier\\keypoint_classifier.hdf5\n",
      "22/22 [==============================] - 0s 15ms/step - loss: 0.5326 - accuracy: 0.8053 - val_loss: 0.5642 - val_accuracy: 0.8055\n",
      "Epoch 94/1500\n",
      "16/22 [====================>.........] - ETA: 0s - loss: 0.5589 - accuracy: 0.7925\n",
      "Epoch 94: saving model to model/keypoint_classifier\\keypoint_classifier.hdf5\n",
      "22/22 [==============================] - 0s 15ms/step - loss: 0.5739 - accuracy: 0.7914 - val_loss: 0.5638 - val_accuracy: 0.8142\n",
      "Epoch 95/1500\n",
      "17/22 [======================>.......] - ETA: 0s - loss: 0.5375 - accuracy: 0.8038\n",
      "Epoch 95: saving model to model/keypoint_classifier\\keypoint_classifier.hdf5\n",
      "22/22 [==============================] - 0s 15ms/step - loss: 0.5435 - accuracy: 0.8016 - val_loss: 0.5712 - val_accuracy: 0.8044\n",
      "Epoch 96/1500\n",
      "15/22 [===================>..........] - ETA: 0s - loss: 0.5589 - accuracy: 0.7953\n",
      "Epoch 96: saving model to model/keypoint_classifier\\keypoint_classifier.hdf5\n",
      "22/22 [==============================] - 0s 15ms/step - loss: 0.5396 - accuracy: 0.8012 - val_loss: 0.5704 - val_accuracy: 0.8033\n",
      "Epoch 97/1500\n",
      "15/22 [===================>..........] - ETA: 0s - loss: 0.5354 - accuracy: 0.8052\n",
      "Epoch 97: saving model to model/keypoint_classifier\\keypoint_classifier.hdf5\n",
      "22/22 [==============================] - 0s 16ms/step - loss: 0.5383 - accuracy: 0.8118 - val_loss: 0.5774 - val_accuracy: 0.7945\n",
      "Epoch 98/1500\n",
      "18/22 [=======================>......] - ETA: 0s - loss: 0.5500 - accuracy: 0.8108\n",
      "Epoch 98: saving model to model/keypoint_classifier\\keypoint_classifier.hdf5\n",
      "22/22 [==============================] - 0s 14ms/step - loss: 0.5594 - accuracy: 0.8056 - val_loss: 0.5592 - val_accuracy: 0.8131\n",
      "Epoch 99/1500\n",
      "15/22 [===================>..........] - ETA: 0s - loss: 0.5268 - accuracy: 0.8125\n",
      "Epoch 99: saving model to model/keypoint_classifier\\keypoint_classifier.hdf5\n",
      "22/22 [==============================] - 0s 15ms/step - loss: 0.5360 - accuracy: 0.8125 - val_loss: 0.5707 - val_accuracy: 0.8000\n",
      "Epoch 100/1500\n",
      "19/22 [========================>.....] - ETA: 0s - loss: 0.5445 - accuracy: 0.8174\n",
      "Epoch 100: saving model to model/keypoint_classifier\\keypoint_classifier.hdf5\n",
      "22/22 [==============================] - 0s 20ms/step - loss: 0.5400 - accuracy: 0.8177 - val_loss: 0.5745 - val_accuracy: 0.8066\n",
      "Epoch 101/1500\n",
      "18/22 [=======================>......] - ETA: 0s - loss: 0.5031 - accuracy: 0.8212\n",
      "Epoch 101: saving model to model/keypoint_classifier\\keypoint_classifier.hdf5\n",
      "22/22 [==============================] - 0s 14ms/step - loss: 0.5195 - accuracy: 0.8133 - val_loss: 0.5795 - val_accuracy: 0.8044\n",
      "Epoch 102/1500\n",
      "16/22 [====================>.........] - ETA: 0s - loss: 0.5177 - accuracy: 0.8140\n",
      "Epoch 102: saving model to model/keypoint_classifier\\keypoint_classifier.hdf5\n",
      "22/22 [==============================] - 0s 15ms/step - loss: 0.5249 - accuracy: 0.8115 - val_loss: 0.5780 - val_accuracy: 0.8120\n",
      "Epoch 103/1500\n",
      "15/22 [===================>..........] - ETA: 0s - loss: 0.4943 - accuracy: 0.8219\n",
      "Epoch 103: saving model to model/keypoint_classifier\\keypoint_classifier.hdf5\n",
      "22/22 [==============================] - 0s 17ms/step - loss: 0.5128 - accuracy: 0.8166 - val_loss: 0.5521 - val_accuracy: 0.8087\n",
      "Epoch 104/1500\n",
      "17/22 [======================>.......] - ETA: 0s - loss: 0.5035 - accuracy: 0.8084\n",
      "Epoch 104: saving model to model/keypoint_classifier\\keypoint_classifier.hdf5\n",
      "22/22 [==============================] - 0s 15ms/step - loss: 0.5072 - accuracy: 0.8045 - val_loss: 0.5646 - val_accuracy: 0.8120\n",
      "Epoch 105/1500\n",
      "16/22 [====================>.........] - ETA: 0s - loss: 0.5559 - accuracy: 0.8018\n",
      "Epoch 105: saving model to model/keypoint_classifier\\keypoint_classifier.hdf5\n",
      "22/22 [==============================] - 0s 15ms/step - loss: 0.5501 - accuracy: 0.8020 - val_loss: 0.5509 - val_accuracy: 0.8077\n",
      "Epoch 106/1500\n",
      "18/22 [=======================>......] - ETA: 0s - loss: 0.5143 - accuracy: 0.8151\n",
      "Epoch 106: saving model to model/keypoint_classifier\\keypoint_classifier.hdf5\n",
      "22/22 [==============================] - 0s 15ms/step - loss: 0.5183 - accuracy: 0.8122 - val_loss: 0.5645 - val_accuracy: 0.8142\n",
      "Epoch 107/1500\n",
      "17/22 [======================>.......] - ETA: 0s - loss: 0.5065 - accuracy: 0.8120\n",
      "Epoch 107: saving model to model/keypoint_classifier\\keypoint_classifier.hdf5\n",
      "22/22 [==============================] - 0s 15ms/step - loss: 0.5063 - accuracy: 0.8115 - val_loss: 0.5684 - val_accuracy: 0.8098\n",
      "Epoch 108/1500\n",
      "16/22 [====================>.........] - ETA: 0s - loss: 0.5227 - accuracy: 0.8018\n",
      "Epoch 108: saving model to model/keypoint_classifier\\keypoint_classifier.hdf5\n",
      "22/22 [==============================] - 0s 15ms/step - loss: 0.5132 - accuracy: 0.8100 - val_loss: 0.5760 - val_accuracy: 0.8055\n",
      "Epoch 109/1500\n",
      "17/22 [======================>.......] - ETA: 0s - loss: 0.5190 - accuracy: 0.8051\n",
      "Epoch 109: saving model to model/keypoint_classifier\\keypoint_classifier.hdf5\n",
      "22/22 [==============================] - 0s 17ms/step - loss: 0.5131 - accuracy: 0.8074 - val_loss: 0.5687 - val_accuracy: 0.8153\n",
      "Epoch 110/1500\n",
      "15/22 [===================>..........] - ETA: 0s - loss: 0.5359 - accuracy: 0.8036\n",
      "Epoch 110: saving model to model/keypoint_classifier\\keypoint_classifier.hdf5\n",
      "22/22 [==============================] - 0s 15ms/step - loss: 0.5213 - accuracy: 0.8078 - val_loss: 0.5584 - val_accuracy: 0.8208\n",
      "Epoch 111/1500\n",
      "18/22 [=======================>......] - ETA: 0s - loss: 0.5129 - accuracy: 0.8199\n",
      "Epoch 111: saving model to model/keypoint_classifier\\keypoint_classifier.hdf5\n",
      "22/22 [==============================] - 0s 13ms/step - loss: 0.5109 - accuracy: 0.8180 - val_loss: 0.5630 - val_accuracy: 0.8164\n",
      "Epoch 112/1500\n",
      "19/22 [========================>.....] - ETA: 0s - loss: 0.5083 - accuracy: 0.8146\n",
      "Epoch 112: saving model to model/keypoint_classifier\\keypoint_classifier.hdf5\n",
      "22/22 [==============================] - 0s 12ms/step - loss: 0.5172 - accuracy: 0.8096 - val_loss: 0.5723 - val_accuracy: 0.8164\n",
      "Epoch 113/1500\n",
      "21/22 [===========================>..] - ETA: 0s - loss: 0.5095 - accuracy: 0.8203\n",
      "Epoch 113: saving model to model/keypoint_classifier\\keypoint_classifier.hdf5\n",
      "22/22 [==============================] - 0s 13ms/step - loss: 0.5126 - accuracy: 0.8173 - val_loss: 0.5838 - val_accuracy: 0.8164\n",
      "Epoch 114/1500\n",
      "19/22 [========================>.....] - ETA: 0s - loss: 0.5105 - accuracy: 0.8195\n",
      "Epoch 114: saving model to model/keypoint_classifier\\keypoint_classifier.hdf5\n",
      "22/22 [==============================] - 0s 12ms/step - loss: 0.5042 - accuracy: 0.8198 - val_loss: 0.5506 - val_accuracy: 0.8219\n",
      "Epoch 115/1500\n",
      "19/22 [========================>.....] - ETA: 0s - loss: 0.4737 - accuracy: 0.8273\n",
      "Epoch 115: saving model to model/keypoint_classifier\\keypoint_classifier.hdf5\n",
      "22/22 [==============================] - 0s 12ms/step - loss: 0.4807 - accuracy: 0.8231 - val_loss: 0.5562 - val_accuracy: 0.8208\n",
      "Epoch 116/1500\n",
      "19/22 [========================>.....] - ETA: 0s - loss: 0.5038 - accuracy: 0.8220\n",
      "Epoch 116: saving model to model/keypoint_classifier\\keypoint_classifier.hdf5\n",
      "22/22 [==============================] - 0s 13ms/step - loss: 0.5067 - accuracy: 0.8195 - val_loss: 0.5589 - val_accuracy: 0.8208\n",
      "Epoch 117/1500\n",
      "21/22 [===========================>..] - ETA: 0s - loss: 0.4978 - accuracy: 0.8155\n",
      "Epoch 117: saving model to model/keypoint_classifier\\keypoint_classifier.hdf5\n",
      "22/22 [==============================] - 0s 13ms/step - loss: 0.5014 - accuracy: 0.8162 - val_loss: 0.5630 - val_accuracy: 0.8230\n",
      "Epoch 118/1500\n",
      "20/22 [==========================>...] - ETA: 0s - loss: 0.4981 - accuracy: 0.8180\n",
      "Epoch 118: saving model to model/keypoint_classifier\\keypoint_classifier.hdf5\n",
      "22/22 [==============================] - 0s 13ms/step - loss: 0.5032 - accuracy: 0.8198 - val_loss: 0.5774 - val_accuracy: 0.8087\n",
      "Epoch 119/1500\n",
      "20/22 [==========================>...] - ETA: 0s - loss: 0.5021 - accuracy: 0.8102\n",
      "Epoch 119: saving model to model/keypoint_classifier\\keypoint_classifier.hdf5\n",
      "22/22 [==============================] - 0s 12ms/step - loss: 0.5055 - accuracy: 0.8074 - val_loss: 0.5627 - val_accuracy: 0.8284\n",
      "Epoch 120/1500\n",
      "19/22 [========================>.....] - ETA: 0s - loss: 0.4970 - accuracy: 0.8244\n",
      "Epoch 120: saving model to model/keypoint_classifier\\keypoint_classifier.hdf5\n",
      "22/22 [==============================] - 0s 13ms/step - loss: 0.5037 - accuracy: 0.8224 - val_loss: 0.5531 - val_accuracy: 0.8240\n",
      "Epoch 121/1500\n",
      "18/22 [=======================>......] - ETA: 0s - loss: 0.5029 - accuracy: 0.8173\n",
      "Epoch 121: saving model to model/keypoint_classifier\\keypoint_classifier.hdf5\n",
      "22/22 [==============================] - 0s 13ms/step - loss: 0.4960 - accuracy: 0.8206 - val_loss: 0.5551 - val_accuracy: 0.8262\n",
      "Epoch 122/1500\n",
      "20/22 [==========================>...] - ETA: 0s - loss: 0.5069 - accuracy: 0.8113\n",
      "Epoch 122: saving model to model/keypoint_classifier\\keypoint_classifier.hdf5\n",
      "22/22 [==============================] - 0s 12ms/step - loss: 0.5062 - accuracy: 0.8118 - val_loss: 0.5514 - val_accuracy: 0.8317\n",
      "Epoch 123/1500\n",
      "19/22 [========================>.....] - ETA: 0s - loss: 0.4803 - accuracy: 0.8178\n",
      "Epoch 123: saving model to model/keypoint_classifier\\keypoint_classifier.hdf5\n",
      "22/22 [==============================] - 0s 12ms/step - loss: 0.4805 - accuracy: 0.8184 - val_loss: 0.5566 - val_accuracy: 0.8262\n",
      "Epoch 124/1500\n",
      "17/22 [======================>.......] - ETA: 0s - loss: 0.5078 - accuracy: 0.8111\n",
      "Epoch 124: saving model to model/keypoint_classifier\\keypoint_classifier.hdf5\n",
      "22/22 [==============================] - 0s 13ms/step - loss: 0.5076 - accuracy: 0.8115 - val_loss: 0.5521 - val_accuracy: 0.8284\n",
      "Epoch 125/1500\n",
      "21/22 [===========================>..] - ETA: 0s - loss: 0.4721 - accuracy: 0.8307\n",
      "Epoch 125: saving model to model/keypoint_classifier\\keypoint_classifier.hdf5\n",
      "22/22 [==============================] - 0s 13ms/step - loss: 0.4702 - accuracy: 0.8304 - val_loss: 0.5625 - val_accuracy: 0.8197\n",
      "Epoch 126/1500\n",
      "20/22 [==========================>...] - ETA: 0s - loss: 0.4836 - accuracy: 0.8105\n",
      "Epoch 126: saving model to model/keypoint_classifier\\keypoint_classifier.hdf5\n",
      "22/22 [==============================] - 0s 12ms/step - loss: 0.4771 - accuracy: 0.8129 - val_loss: 0.5534 - val_accuracy: 0.8262\n",
      "Epoch 127/1500\n",
      "19/22 [========================>.....] - ETA: 0s - loss: 0.4804 - accuracy: 0.8306\n",
      "Epoch 127: saving model to model/keypoint_classifier\\keypoint_classifier.hdf5\n",
      "22/22 [==============================] - 0s 13ms/step - loss: 0.4806 - accuracy: 0.8293 - val_loss: 0.5543 - val_accuracy: 0.8240\n",
      "Epoch 128/1500\n",
      "17/22 [======================>.......] - ETA: 0s - loss: 0.4740 - accuracy: 0.8295\n",
      "Epoch 128: saving model to model/keypoint_classifier\\keypoint_classifier.hdf5\n",
      "22/22 [==============================] - 0s 12ms/step - loss: 0.4846 - accuracy: 0.8246 - val_loss: 0.5522 - val_accuracy: 0.8404\n",
      "Epoch 129/1500\n",
      "18/22 [=======================>......] - ETA: 0s - loss: 0.4813 - accuracy: 0.8251\n",
      "Epoch 129: saving model to model/keypoint_classifier\\keypoint_classifier.hdf5\n",
      "22/22 [==============================] - 0s 13ms/step - loss: 0.4795 - accuracy: 0.8293 - val_loss: 0.5523 - val_accuracy: 0.8262\n",
      "Epoch 130/1500\n",
      "20/22 [==========================>...] - ETA: 0s - loss: 0.4964 - accuracy: 0.8188\n",
      "Epoch 130: saving model to model/keypoint_classifier\\keypoint_classifier.hdf5\n",
      "22/22 [==============================] - 0s 12ms/step - loss: 0.4898 - accuracy: 0.8198 - val_loss: 0.5709 - val_accuracy: 0.8219\n",
      "Epoch 131/1500\n",
      "19/22 [========================>.....] - ETA: 0s - loss: 0.4541 - accuracy: 0.8331\n",
      "Epoch 131: saving model to model/keypoint_classifier\\keypoint_classifier.hdf5\n",
      "22/22 [==============================] - 0s 12ms/step - loss: 0.4560 - accuracy: 0.8308 - val_loss: 0.5598 - val_accuracy: 0.8230\n",
      "Epoch 132/1500\n",
      "21/22 [===========================>..] - ETA: 0s - loss: 0.4749 - accuracy: 0.8333\n",
      "Epoch 132: saving model to model/keypoint_classifier\\keypoint_classifier.hdf5\n",
      "22/22 [==============================] - 0s 12ms/step - loss: 0.4777 - accuracy: 0.8319 - val_loss: 0.5654 - val_accuracy: 0.8273\n",
      "Epoch 133/1500\n",
      "19/22 [========================>.....] - ETA: 0s - loss: 0.4852 - accuracy: 0.8269\n",
      "Epoch 133: saving model to model/keypoint_classifier\\keypoint_classifier.hdf5\n",
      "22/22 [==============================] - 0s 12ms/step - loss: 0.4726 - accuracy: 0.8333 - val_loss: 0.5575 - val_accuracy: 0.8230\n",
      "Epoch 134/1500\n",
      "17/22 [======================>.......] - ETA: 0s - loss: 0.4888 - accuracy: 0.8263\n",
      "Epoch 134: saving model to model/keypoint_classifier\\keypoint_classifier.hdf5\n",
      "22/22 [==============================] - 0s 14ms/step - loss: 0.4789 - accuracy: 0.8264 - val_loss: 0.5507 - val_accuracy: 0.8306\n",
      "Epoch 134: early stopping\n"
     ]
    },
    {
     "data": {
      "text/plain": [
       "<keras.src.callbacks.History at 0x209913a1110>"
      ]
     },
     "execution_count": 11,
     "metadata": {},
     "output_type": "execute_result"
    }
   ],
   "source": [
    "model.fit(\n",
    "    X_train,\n",
    "    y_train,\n",
    "    epochs=1500,\n",
    "    batch_size=128,\n",
    "    validation_data=(X_test, y_test),\n",
    "    callbacks=[cp_callback, es_callback]\n",
    ")"
   ]
  },
  {
   "cell_type": "code",
   "execution_count": 12,
   "metadata": {
    "colab": {
     "base_uri": "https://localhost:8080/"
    },
    "id": "pxvb2Y299hE3",
    "outputId": "59eb3185-2e37-4b9e-bc9d-ab1b8ac29b7f"
   },
   "outputs": [
    {
     "name": "stdout",
     "output_type": "stream",
     "text": [
      "8/8 [==============================] - 0s 3ms/step - loss: 0.5507 - accuracy: 0.8306\n"
     ]
    }
   ],
   "source": [
    "# Model evaluation\n",
    "val_loss, val_acc = model.evaluate(X_test, y_test, batch_size=128)"
   ]
  },
  {
   "cell_type": "code",
   "execution_count": 13,
   "metadata": {
    "id": "RBkmDeUW9hE4"
   },
   "outputs": [],
   "source": [
    "# Loading the saved model\n",
    "model = tf.keras.models.load_model(model_save_path)"
   ]
  },
  {
   "cell_type": "code",
   "execution_count": 14,
   "metadata": {
    "colab": {
     "base_uri": "https://localhost:8080/"
    },
    "id": "tFz9Tb0I9hE4",
    "outputId": "1c3b3528-54ae-4ee2-ab04-77429211cbef"
   },
   "outputs": [
    {
     "name": "stdout",
     "output_type": "stream",
     "text": [
      "1/1 [==============================] - 0s 310ms/step\n",
      "[9.9855119e-01 3.7734192e-06 4.0520399e-04 1.6432446e-07 2.7337708e-07\n",
      " 2.4723896e-08 8.3820325e-08 8.6074162e-11 5.9875561e-07 1.4566790e-08\n",
      " 1.3441214e-06 3.1199704e-06 5.6591972e-07 7.6199868e-08 3.7033931e-08\n",
      " 3.1943961e-07 1.4784075e-07 6.6364039e-04 2.1730187e-07 3.2122223e-08\n",
      " 1.9125073e-06 1.4957882e-04 2.1744026e-04 2.0920567e-07]\n",
      "0\n"
     ]
    }
   ],
   "source": [
    "# Inference test\n",
    "predict_result = model.predict(np.array([X_test[0]]))\n",
    "print(np.squeeze(predict_result))\n",
    "print(np.argmax(np.squeeze(predict_result)))"
   ]
  },
  {
   "cell_type": "markdown",
   "metadata": {
    "id": "S3U4yNWx9hE4"
   },
   "source": [
    "# Confusion matrix"
   ]
  },
  {
   "cell_type": "code",
   "execution_count": 15,
   "metadata": {
    "colab": {
     "base_uri": "https://localhost:8080/",
     "height": 582
    },
    "id": "AP1V6SCk9hE5",
    "outputId": "08e41a80-7a4a-4619-8125-ecc371368d19"
   },
   "outputs": [
    {
     "name": "stdout",
     "output_type": "stream",
     "text": [
      "29/29 [==============================] - 0s 3ms/step\n"
     ]
    },
    {
     "data": {
      "image/png": "[encoded data removed]",
      "text/plain": [
       "<Figure size 700x600 with 2 Axes>"
      ]
     },
     "metadata": {},
     "output_type": "display_data"
    },
    {
     "name": "stdout",
     "output_type": "stream",
     "text": [
      "Classification Report\n",
      "              precision    recall  f1-score   support\n",
      "\n",
      "           0       0.93      0.97      0.95        93\n",
      "           1       0.75      0.55      0.63        11\n",
      "           2       0.90      0.82      0.86        57\n",
      "           3       0.88      0.91      0.89        32\n",
      "           4       0.79      0.78      0.79        54\n",
      "           5       1.00      0.33      0.50         9\n",
      "           6       0.62      0.67      0.64        24\n",
      "           7       0.97      1.00      0.98        29\n",
      "           8       0.93      0.93      0.93        28\n",
      "           9       0.90      0.97      0.93        36\n",
      "          10       0.73      0.59      0.66        32\n",
      "          11       0.82      0.88      0.85        32\n",
      "          12       0.46      0.68      0.55        28\n",
      "          13       0.84      0.72      0.78        36\n",
      "          14       0.91      1.00      0.95        42\n",
      "          15       0.44      0.70      0.54        23\n",
      "          16       0.95      0.93      0.94        68\n",
      "          17       0.95      0.88      0.92        68\n",
      "          18       1.00      0.75      0.86        36\n",
      "          19       0.71      0.87      0.78        46\n",
      "          20       0.33      0.20      0.25        25\n",
      "          21       0.84      0.92      0.88        52\n",
      "          22       0.95      0.85      0.90        46\n",
      "          23       0.71      0.62      0.67         8\n",
      "\n",
      "    accuracy                           0.83       915\n",
      "   macro avg       0.81      0.77      0.78       915\n",
      "weighted avg       0.84      0.83      0.83       915\n",
      "\n"
     ]
    }
   ],
   "source": [
    "import pandas as pd\n",
    "import seaborn as sns\n",
    "import matplotlib.pyplot as plt\n",
    "from sklearn.metrics import confusion_matrix, classification_report\n",
    "\n",
    "def print_confusion_matrix(y_true, y_pred, report=True):\n",
    "    labels = sorted(list(set(y_true)))\n",
    "    cmx_data = confusion_matrix(y_true, y_pred, labels=labels)\n",
    "    \n",
    "    df_cmx = pd.DataFrame(cmx_data, index=labels, columns=labels)\n",
    " \n",
    "    fig, ax = plt.subplots(figsize=(7, 6))\n",
    "    sns.heatmap(df_cmx, annot=True, fmt='g' ,square=False)\n",
    "    ax.set_ylim(len(set(y_true)), 0)\n",
    "    plt.show()\n",
    "    \n",
    "    if report:\n",
    "        print('Classification Report')\n",
    "        print(classification_report(y_test, y_pred))\n",
    "\n",
    "Y_pred = model.predict(X_test)\n",
    "y_pred = np.argmax(Y_pred, axis=1)\n",
    "\n",
    "print_confusion_matrix(y_test, y_pred)"
   ]
  },
  {
   "cell_type": "markdown",
   "metadata": {
    "id": "FNP6aqzc9hE5"
   },
   "source": [
    "# Convert to model for Tensorflow-Lite"
   ]
  },
  {
   "cell_type": "code",
   "execution_count": 16,
   "metadata": {
    "id": "ODjnYyld9hE6"
   },
   "outputs": [
    {
     "name": "stderr",
     "output_type": "stream",
     "text": [
      "C:\\Users\\metua\\anaconda3\\Lib\\site-packages\\keras\\src\\engine\\training.py:3103: UserWarning: You are saving your model as an HDF5 file via `model.save()`. This file format is considered legacy. We recommend using instead the native Keras format, e.g. `model.save('my_model.keras')`.\n",
      "  saving_api.save_model(\n"
     ]
    }
   ],
   "source": [
    "# Save as a model dedicated to inference\n",
    "model.save(model_save_path, include_optimizer=False)"
   ]
  },
  {
   "cell_type": "code",
   "execution_count": 17,
   "metadata": {
    "colab": {
     "base_uri": "https://localhost:8080/"
    },
    "id": "zRfuK8Y59hE6",
    "outputId": "a4ca585c-b5d5-4244-8291-8674063209bb"
   },
   "outputs": [
    {
     "name": "stdout",
     "output_type": "stream",
     "text": [
      "INFO:tensorflow:Assets written to: C:\\Users\\metua\\AppData\\Local\\Temp\\tmpr8aoxyq_\\assets\n"
     ]
    },
    {
     "name": "stderr",
     "output_type": "stream",
     "text": [
      "INFO:tensorflow:Assets written to: C:\\Users\\metua\\AppData\\Local\\Temp\\tmpr8aoxyq_\\assets\n"
     ]
    },
    {
     "data": {
      "text/plain": [
       "18976"
      ]
     },
     "execution_count": 17,
     "metadata": {},
     "output_type": "execute_result"
    }
   ],
   "source": [
    "# Transform model (quantization)\n",
    "\n",
    "converter = tf.lite.TFLiteConverter.from_keras_model(model)\n",
    "converter.optimizations = [tf.lite.Optimize.DEFAULT]\n",
    "tflite_quantized_model = converter.convert()\n",
    "\n",
    "open(tflite_save_path, 'wb').write(tflite_quantized_model)"
   ]
  },
  {
   "cell_type": "markdown",
   "metadata": {
    "id": "CHBPBXdx9hE6"
   },
   "source": [
    "# Inference test"
   ]
  },
  {
   "cell_type": "code",
   "execution_count": 18,
   "metadata": {
    "id": "mGAzLocO9hE7"
   },
   "outputs": [],
   "source": [
    "interpreter = tf.lite.Interpreter(model_path=tflite_save_path)\n",
    "interpreter.allocate_tensors()"
   ]
  },
  {
   "cell_type": "code",
   "execution_count": 19,
   "metadata": {
    "id": "oQuDK8YS9hE7"
   },
   "outputs": [],
   "source": [
    "# Get I / O tensor\n",
    "input_details = interpreter.get_input_details()\n",
    "output_details = interpreter.get_output_details()"
   ]
  },
  {
   "cell_type": "code",
   "execution_count": 20,
   "metadata": {
    "id": "2_ixAf_l9hE7"
   },
   "outputs": [],
   "source": [
    "interpreter.set_tensor(input_details[0]['index'], np.array([X_test[0]]))"
   ]
  },
  {
   "cell_type": "code",
   "execution_count": 21,
   "metadata": {
    "colab": {
     "base_uri": "https://localhost:8080/"
    },
    "id": "s4FoAnuc9hE7",
    "outputId": "91f18257-8d8b-4ef3-c558-e9b5f94fabbf",
    "scrolled": true
   },
   "outputs": [
    {
     "name": "stdout",
     "output_type": "stream",
     "text": [
      "CPU times: total: 0 ns\n",
      "Wall time: 975 µs\n"
     ]
    }
   ],
   "source": [
    "%%time\n",
    "# Inference implementation\n",
    "interpreter.invoke()\n",
    "tflite_results = interpreter.get_tensor(output_details[0]['index'])"
   ]
  },
  {
   "cell_type": "code",
   "execution_count": 22,
   "metadata": {
    "colab": {
     "base_uri": "https://localhost:8080/"
    },
    "id": "vONjp19J9hE8",
    "outputId": "77205e24-fd00-42c4-f7b6-e06e527c2cba"
   },
   "outputs": [
    {
     "name": "stdout",
     "output_type": "stream",
     "text": [
      "[9.98144627e-01 5.13722625e-06 5.14227257e-04 2.30112221e-07\n",
      " 3.89107470e-07 3.72072861e-08 1.15756357e-07 1.30495156e-10\n",
      " 8.64797073e-07 2.22055405e-08 1.76637116e-06 4.01394982e-06\n",
      " 8.33108800e-07 1.06538096e-07 5.20180805e-08 4.50919970e-07\n",
      " 2.04656843e-07 8.66389484e-04 2.92522344e-07 4.65775081e-08\n",
      " 2.74755439e-06 1.88249047e-04 2.68973148e-04 2.92515068e-07]\n",
      "0\n"
     ]
    }
   ],
   "source": [
    "print(np.squeeze(tflite_results))\n",
    "print(np.argmax(np.squeeze(tflite_results)))"
   ]
  },
  {
   "cell_type": "code",
   "execution_count": null,
   "metadata": {},
   "outputs": [],
   "source": []
  }
 ],
 "metadata": {
  "accelerator": "GPU",
  "colab": {
   "collapsed_sections": [],
   "name": "keypoint_classification_EN.ipynb",
   "provenance": [],
   "toc_visible": true
  },
  "kernelspec": {
   "display_name": "Python 3 (ipykernel)",
   "language": "python",
   "name": "python3"
  },
  "language_info": {
   "codemirror_mode": {
    "name": "ipython",
    "version": 3
   },
   "file_extension": ".py",
   "mimetype": "text/x-python",
   "name": "python",
   "nbconvert_exporter": "python",
   "pygments_lexer": "ipython3",
   "version": "3.11.7"
  }
 },
 "nbformat": 4,
 "nbformat_minor": 4
}
