{
 "cells": [
  {
   "cell_type": "code",
   "execution_count": 6,
   "metadata": {
    "id": "igMyGnjE9hEp"
   },
   "outputs": [],
   "source": [
    "import csv\n",
    "\n",
    "import numpy as np\n",
    "import tensorflow as tf\n",
    "from sklearn.model_selection import train_test_split\n",
    "\n",
    "RANDOM_SEED = 42"
   ]
  },
  {
   "cell_type": "markdown",
   "metadata": {
    "id": "t2HDvhIu9hEr"
   },
   "source": [
    "# Specify each path"
   ]
  },
  {
   "cell_type": "code",
   "execution_count": 7,
   "metadata": {
    "id": "9NvZP2Zn9hEy"
   },
   "outputs": [],
   "source": [
    "dataset = \"C:/Users/metua/OneDrive/Документы/KBTU/Master's thesis/thesis project/hand-gesture-recognition-mediapipe/model/keypoint_classifier/keypoint.csv\"\n",
    "\n",
    "model_save_path = 'model/keypoint_classifier/keypoint_classifier.hdf5'\n",
    "tflite_save_path = 'model/keypoint_classifier/keypoint_classifier.tflite'"
   ]
  },
  {
   "cell_type": "markdown",
   "metadata": {
    "id": "s5oMH7x19hEz"
   },
   "source": [
    "# Set number of classes"
   ]
  },
  {
   "cell_type": "code",
   "execution_count": 8,
   "metadata": {
    "id": "du4kodXL9hEz"
   },
   "outputs": [],
   "source": [
    "NUM_CLASSES = 24"
   ]
  },
  {
   "cell_type": "markdown",
   "metadata": {
    "id": "XjnL0uso9hEz"
   },
   "source": [
    "# Dataset reading"
   ]
  },
  {
   "cell_type": "code",
   "execution_count": 9,
   "metadata": {
    "id": "QT5ZqtEz9hE0"
   },
   "outputs": [],
   "source": [
    "X_dataset = np.loadtxt(dataset, delimiter=',', dtype='float32', usecols=list(range(1, (21 * 2) + 1)))"
   ]
  },
  {
   "cell_type": "code",
   "execution_count": 10,
   "metadata": {
    "id": "QmoKFsp49hE0"
   },
   "outputs": [],
   "source": [
    "y_dataset = np.loadtxt(dataset, delimiter=',', dtype='int32', usecols=(0))"
   ]
  },
  {
   "cell_type": "code",
   "execution_count": 11,
   "metadata": {
    "id": "xQU7JTZ_9hE0"
   },
   "outputs": [],
   "source": [
    "X_train, X_test, y_train, y_test = train_test_split(X_dataset, y_dataset, train_size=0.75, random_state=RANDOM_SEED)"
   ]
  },
  {
   "cell_type": "markdown",
   "metadata": {
    "id": "mxK_lETT9hE0"
   },
   "source": [
    "# Model building"
   ]
  },
  {
   "cell_type": "code",
   "execution_count": 12,
   "metadata": {
    "id": "vHBmUf1t9hE1"
   },
   "outputs": [
    {
     "name": "stdout",
     "output_type": "stream",
     "text": [
      "WARNING:tensorflow:From C:\\Users\\metua\\anaconda3\\Lib\\site-packages\\keras\\src\\backend.py:1398: The name tf.executing_eagerly_outside_functions is deprecated. Please use tf.compat.v1.executing_eagerly_outside_functions instead.\n",
      "\n"
     ]
    }
   ],
   "source": [
    "# model = tf.keras.models.Sequential([\n",
    "#     tf.keras.layers.Input((21 * 2, )),\n",
    "#     tf.keras.layers.Dropout(0.2),\n",
    "#     tf.keras.layers.Dense(20, activation='relu'),\n",
    "#     tf.keras.layers.Dropout(0.4),\n",
    "#     tf.keras.layers.Dense(10, activation='relu'),\n",
    "#     tf.keras.layers.Dense(NUM_CLASSES, activation='softmax')\n",
    "# ])\n",
    "\n",
    "model =  tf.keras.models.Sequential([\n",
    "     tf.keras.layers.Input((21 * 2, )),\n",
    "    \n",
    "    # First dense layer with batch normalization and dropout\n",
    "     tf.keras.layers.Dense(100, activation=None),\n",
    "     tf.keras.layers.BatchNormalization(),\n",
    "     tf.keras.layers.ReLU(),\n",
    "     tf.keras.layers.Dropout(0.2),\n",
    "    \n",
    "    # Second dense layer with batch normalization and dropout\n",
    "     tf.keras.layers.Dense(50, activation=None),\n",
    "     tf.keras.layers.BatchNormalization(),\n",
    "     tf.keras.layers.ReLU(),\n",
    "     tf.keras.layers.Dropout(0.2),\n",
    "    \n",
    "    # Third dense layer with batch normalization and dropout\n",
    "     tf.keras.layers.Dense(20, activation=None),\n",
    "     tf.keras.layers.BatchNormalization(),\n",
    "     tf.keras.layers.ReLU(),\n",
    "     tf.keras.layers.Dropout(0.2),\n",
    "    \n",
    "    # Output layer\n",
    "     tf.keras.layers.Dense(NUM_CLASSES, activation='softmax')\n",
    "])"
   ]
  },
  {
   "cell_type": "code",
   "execution_count": 13,
   "metadata": {
    "colab": {
     "base_uri": "https://localhost:8080/"
    },
    "id": "ypqky9tc9hE1",
    "outputId": "5db082bb-30e3-4110-bf63-a1ee777ecd46"
   },
   "outputs": [
    {
     "name": "stdout",
     "output_type": "stream",
     "text": [
      "Model: \"sequential\"\n",
      "_________________________________________________________________\n",
      " Layer (type)                Output Shape              Param #   \n",
      "=================================================================\n",
      " dense (Dense)               (None, 100)               4300      \n",
      "                                                                 \n",
      " batch_normalization (Batch  (None, 100)               400       \n",
      " Normalization)                                                  \n",
      "                                                                 \n",
      " re_lu (ReLU)                (None, 100)               0         \n",
      "                                                                 \n",
      " dropout (Dropout)           (None, 100)               0         \n",
      "                                                                 \n",
      " dense_1 (Dense)             (None, 50)                5050      \n",
      "                                                                 \n",
      " batch_normalization_1 (Bat  (None, 50)                200       \n",
      " chNormalization)                                                \n",
      "                                                                 \n",
      " re_lu_1 (ReLU)              (None, 50)                0         \n",
      "                                                                 \n",
      " dropout_1 (Dropout)         (None, 50)                0         \n",
      "                                                                 \n",
      " dense_2 (Dense)             (None, 20)                1020      \n",
      "                                                                 \n",
      " batch_normalization_2 (Bat  (None, 20)                80        \n",
      " chNormalization)                                                \n",
      "                                                                 \n",
      " re_lu_2 (ReLU)              (None, 20)                0         \n",
      "                                                                 \n",
      " dropout_2 (Dropout)         (None, 20)                0         \n",
      "                                                                 \n",
      " dense_3 (Dense)             (None, 24)                504       \n",
      "                                                                 \n",
      "=================================================================\n",
      "Total params: 11554 (45.13 KB)\n",
      "Trainable params: 11214 (43.80 KB)\n",
      "Non-trainable params: 340 (1.33 KB)\n",
      "_________________________________________________________________\n"
     ]
    }
   ],
   "source": [
    "model.summary()  # tf.keras.utils.plot_model(model, show_shapes=True)"
   ]
  },
  {
   "cell_type": "code",
   "execution_count": 14,
   "metadata": {
    "id": "MbMjOflQ9hE1"
   },
   "outputs": [],
   "source": [
    "# Model checkpoint callback\n",
    "cp_callback = tf.keras.callbacks.ModelCheckpoint(\n",
    "    model_save_path, verbose=1, save_weights_only=False)\n",
    "# Callback for early stopping\n",
    "es_callback = tf.keras.callbacks.EarlyStopping(patience=20, verbose=1)"
   ]
  },
  {
   "cell_type": "code",
   "execution_count": 15,
   "metadata": {
    "id": "c3Dac0M_9hE2"
   },
   "outputs": [
    {
     "name": "stdout",
     "output_type": "stream",
     "text": [
      "WARNING:tensorflow:From C:\\Users\\metua\\anaconda3\\Lib\\site-packages\\keras\\src\\optimizers\\__init__.py:309: The name tf.train.Optimizer is deprecated. Please use tf.compat.v1.train.Optimizer instead.\n",
      "\n"
     ]
    }
   ],
   "source": [
    "# Model compilation\n",
    "model.compile(\n",
    "    optimizer='adam',\n",
    "    loss='sparse_categorical_crossentropy',\n",
    "    metrics=['accuracy']\n",
    ")"
   ]
  },
  {
   "cell_type": "markdown",
   "metadata": {
    "id": "7XI0j1Iu9hE2"
   },
   "source": [
    "# Model training"
   ]
  },
  {
   "cell_type": "code",
   "execution_count": 16,
   "metadata": {
    "colab": {
     "base_uri": "https://localhost:8080/"
    },
    "id": "WirBl-JE9hE3",
    "outputId": "71b30ca2-8294-4d9d-8aa2-800d90d399de",
    "scrolled": true
   },
   "outputs": [
    {
     "name": "stdout",
     "output_type": "stream",
     "text": [
      "Epoch 1/1000\n",
      "WARNING:tensorflow:From C:\\Users\\metua\\anaconda3\\Lib\\site-packages\\keras\\src\\utils\\tf_utils.py:492: The name tf.ragged.RaggedTensorValue is deprecated. Please use tf.compat.v1.ragged.RaggedTensorValue instead.\n",
      "\n",
      "WARNING:tensorflow:From C:\\Users\\metua\\anaconda3\\Lib\\site-packages\\keras\\src\\engine\\base_layer_utils.py:384: The name tf.executing_eagerly_outside_functions is deprecated. Please use tf.compat.v1.executing_eagerly_outside_functions instead.\n",
      "\n",
      "37/43 [========================>.....] - ETA: 0s - loss: 3.1357 - accuracy: 0.0830\n",
      "Epoch 1: saving model to model/keypoint_classifier\\keypoint_classifier.hdf5\n",
      "43/43 [==============================] - 6s 25ms/step - loss: 3.0972 - accuracy: 0.0952 - val_loss: 3.1137 - val_accuracy: 0.0899\n",
      "Epoch 2/1000\n",
      "17/43 [==========>...................] - ETA: 0s - loss: 2.7703 - accuracy: 0.1893"
     ]
    },
    {
     "name": "stderr",
     "output_type": "stream",
     "text": [
      "C:\\Users\\metua\\anaconda3\\Lib\\site-packages\\keras\\src\\engine\\training.py:3103: UserWarning: You are saving your model as an HDF5 file via `model.save()`. This file format is considered legacy. We recommend using instead the native Keras format, e.g. `model.save('my_model.keras')`.\n",
      "  saving_api.save_model(\n"
     ]
    },
    {
     "name": "stdout",
     "output_type": "stream",
     "text": [
      "36/43 [========================>.....] - ETA: 0s - loss: 2.6927 - accuracy: 0.2181\n",
      "Epoch 2: saving model to model/keypoint_classifier\\keypoint_classifier.hdf5\n",
      "43/43 [==============================] - 0s 11ms/step - loss: 2.6662 - accuracy: 0.2325 - val_loss: 3.0392 - val_accuracy: 0.2126\n",
      "Epoch 3/1000\n",
      "38/43 [=========================>....] - ETA: 0s - loss: 2.3508 - accuracy: 0.3337\n",
      "Epoch 3: saving model to model/keypoint_classifier\\keypoint_classifier.hdf5\n",
      "43/43 [==============================] - 0s 10ms/step - loss: 2.3366 - accuracy: 0.3399 - val_loss: 2.9122 - val_accuracy: 0.3321\n",
      "Epoch 4/1000\n",
      "41/43 [===========================>..] - ETA: 0s - loss: 2.0626 - accuracy: 0.4217\n",
      "Epoch 4: saving model to model/keypoint_classifier\\keypoint_classifier.hdf5\n",
      "43/43 [==============================] - 0s 9ms/step - loss: 2.0591 - accuracy: 0.4216 - val_loss: 2.7685 - val_accuracy: 0.2855\n",
      "Epoch 5/1000\n",
      "42/43 [============================>.] - ETA: 0s - loss: 1.7920 - accuracy: 0.4940\n",
      "Epoch 5: saving model to model/keypoint_classifier\\keypoint_classifier.hdf5\n",
      "43/43 [==============================] - 0s 9ms/step - loss: 1.7902 - accuracy: 0.4927 - val_loss: 2.5462 - val_accuracy: 0.4159\n",
      "Epoch 6/1000\n",
      "40/43 [==========================>...] - ETA: 0s - loss: 1.5982 - accuracy: 0.5516\n",
      "Epoch 6: saving model to model/keypoint_classifier\\keypoint_classifier.hdf5\n",
      "43/43 [==============================] - 0s 9ms/step - loss: 1.5906 - accuracy: 0.5526 - val_loss: 2.2835 - val_accuracy: 0.4603\n",
      "Epoch 7/1000\n",
      "43/43 [==============================] - ETA: 0s - loss: 1.4139 - accuracy: 0.5965\n",
      "Epoch 7: saving model to model/keypoint_classifier\\keypoint_classifier.hdf5\n",
      "43/43 [==============================] - 0s 10ms/step - loss: 1.4139 - accuracy: 0.5965 - val_loss: 2.1425 - val_accuracy: 0.4597\n",
      "Epoch 8/1000\n",
      "42/43 [============================>.] - ETA: 0s - loss: 1.3003 - accuracy: 0.6166\n",
      "Epoch 8: saving model to model/keypoint_classifier\\keypoint_classifier.hdf5\n",
      "43/43 [==============================] - 0s 9ms/step - loss: 1.3005 - accuracy: 0.6168 - val_loss: 1.7213 - val_accuracy: 0.6679\n",
      "Epoch 9/1000\n",
      "39/43 [==========================>...] - ETA: 0s - loss: 1.1876 - accuracy: 0.6562\n",
      "Epoch 9: saving model to model/keypoint_classifier\\keypoint_classifier.hdf5\n",
      "43/43 [==============================] - 0s 10ms/step - loss: 1.1864 - accuracy: 0.6553 - val_loss: 1.5381 - val_accuracy: 0.6142\n",
      "Epoch 10/1000\n",
      "38/43 [=========================>....] - ETA: 0s - loss: 1.0939 - accuracy: 0.6676\n",
      "Epoch 10: saving model to model/keypoint_classifier\\keypoint_classifier.hdf5\n",
      "43/43 [==============================] - 0s 10ms/step - loss: 1.0964 - accuracy: 0.6636 - val_loss: 1.3948 - val_accuracy: 0.6088\n",
      "Epoch 11/1000\n",
      "37/43 [========================>.....] - ETA: 0s - loss: 1.0475 - accuracy: 0.6717\n",
      "Epoch 11: saving model to model/keypoint_classifier\\keypoint_classifier.hdf5\n",
      "43/43 [==============================] - 0s 9ms/step - loss: 1.0383 - accuracy: 0.6765 - val_loss: 1.0180 - val_accuracy: 0.7901\n",
      "Epoch 12/1000\n",
      "39/43 [==========================>...] - ETA: 0s - loss: 0.9778 - accuracy: 0.6937\n",
      "Epoch 12: saving model to model/keypoint_classifier\\keypoint_classifier.hdf5\n",
      "43/43 [==============================] - 0s 10ms/step - loss: 0.9742 - accuracy: 0.6966 - val_loss: 0.8799 - val_accuracy: 0.7978\n",
      "Epoch 13/1000\n",
      "39/43 [==========================>...] - ETA: 0s - loss: 0.9286 - accuracy: 0.7025\n",
      "Epoch 13: saving model to model/keypoint_classifier\\keypoint_classifier.hdf5\n",
      "43/43 [==============================] - 0s 10ms/step - loss: 0.9224 - accuracy: 0.7063 - val_loss: 0.8084 - val_accuracy: 0.7781\n",
      "Epoch 14/1000\n",
      "38/43 [=========================>....] - ETA: 0s - loss: 0.8625 - accuracy: 0.7241\n",
      "Epoch 14: saving model to model/keypoint_classifier\\keypoint_classifier.hdf5\n",
      "43/43 [==============================] - 0s 9ms/step - loss: 0.8698 - accuracy: 0.7209 - val_loss: 0.7218 - val_accuracy: 0.8214\n",
      "Epoch 15/1000\n",
      "39/43 [==========================>...] - ETA: 0s - loss: 0.8462 - accuracy: 0.7308\n",
      "Epoch 15: saving model to model/keypoint_classifier\\keypoint_classifier.hdf5\n",
      "43/43 [==============================] - 0s 10ms/step - loss: 0.8481 - accuracy: 0.7292 - val_loss: 0.6824 - val_accuracy: 0.7984\n",
      "Epoch 16/1000\n",
      "40/43 [==========================>...] - ETA: 0s - loss: 0.8074 - accuracy: 0.7371\n",
      "Epoch 16: saving model to model/keypoint_classifier\\keypoint_classifier.hdf5\n",
      "43/43 [==============================] - 0s 10ms/step - loss: 0.8061 - accuracy: 0.7381 - val_loss: 0.6581 - val_accuracy: 0.7945\n",
      "Epoch 17/1000\n",
      "37/43 [========================>.....] - ETA: 0s - loss: 0.7868 - accuracy: 0.7424\n",
      "Epoch 17: saving model to model/keypoint_classifier\\keypoint_classifier.hdf5\n",
      "43/43 [==============================] - 0s 10ms/step - loss: 0.7882 - accuracy: 0.7405 - val_loss: 0.6113 - val_accuracy: 0.8132\n",
      "Epoch 18/1000\n",
      "41/43 [===========================>..] - ETA: 0s - loss: 0.7738 - accuracy: 0.7450\n",
      "Epoch 18: saving model to model/keypoint_classifier\\keypoint_classifier.hdf5\n",
      "43/43 [==============================] - 0s 10ms/step - loss: 0.7724 - accuracy: 0.7443 - val_loss: 0.6089 - val_accuracy: 0.8027\n",
      "Epoch 19/1000\n",
      "40/43 [==========================>...] - ETA: 0s - loss: 0.7495 - accuracy: 0.7531\n",
      "Epoch 19: saving model to model/keypoint_classifier\\keypoint_classifier.hdf5\n",
      "43/43 [==============================] - 0s 10ms/step - loss: 0.7479 - accuracy: 0.7538 - val_loss: 0.7078 - val_accuracy: 0.7573\n",
      "Epoch 20/1000\n",
      "37/43 [========================>.....] - ETA: 0s - loss: 0.7328 - accuracy: 0.7568\n",
      "Epoch 20: saving model to model/keypoint_classifier\\keypoint_classifier.hdf5\n",
      "43/43 [==============================] - 0s 10ms/step - loss: 0.7257 - accuracy: 0.7569 - val_loss: 0.6324 - val_accuracy: 0.7984\n",
      "Epoch 21/1000\n",
      "39/43 [==========================>...] - ETA: 0s - loss: 0.7090 - accuracy: 0.7564\n",
      "Epoch 21: saving model to model/keypoint_classifier\\keypoint_classifier.hdf5\n",
      "43/43 [==============================] - 0s 10ms/step - loss: 0.7144 - accuracy: 0.7566 - val_loss: 0.5151 - val_accuracy: 0.8241\n",
      "Epoch 22/1000\n",
      "40/43 [==========================>...] - ETA: 0s - loss: 0.6807 - accuracy: 0.7701\n",
      "Epoch 22: saving model to model/keypoint_classifier\\keypoint_classifier.hdf5\n",
      "43/43 [==============================] - 0s 10ms/step - loss: 0.6759 - accuracy: 0.7723 - val_loss: 0.4828 - val_accuracy: 0.8493\n",
      "Epoch 23/1000\n",
      "37/43 [========================>.....] - ETA: 0s - loss: 0.6660 - accuracy: 0.7755\n",
      "Epoch 23: saving model to model/keypoint_classifier\\keypoint_classifier.hdf5\n",
      "43/43 [==============================] - 0s 10ms/step - loss: 0.6758 - accuracy: 0.7743 - val_loss: 0.5175 - val_accuracy: 0.8153\n",
      "Epoch 24/1000\n",
      "42/43 [============================>.] - ETA: 0s - loss: 0.6526 - accuracy: 0.7827\n",
      "Epoch 24: saving model to model/keypoint_classifier\\keypoint_classifier.hdf5\n",
      "43/43 [==============================] - 0s 9ms/step - loss: 0.6534 - accuracy: 0.7822 - val_loss: 0.6384 - val_accuracy: 0.7847\n",
      "Epoch 25/1000\n",
      "36/43 [========================>.....] - ETA: 0s - loss: 0.6543 - accuracy: 0.7726\n",
      "Epoch 25: saving model to model/keypoint_classifier\\keypoint_classifier.hdf5\n",
      "43/43 [==============================] - 0s 10ms/step - loss: 0.6493 - accuracy: 0.7739 - val_loss: 0.6541 - val_accuracy: 0.7759\n",
      "Epoch 26/1000\n",
      "38/43 [=========================>....] - ETA: 0s - loss: 0.6321 - accuracy: 0.7930\n",
      "Epoch 26: saving model to model/keypoint_classifier\\keypoint_classifier.hdf5\n",
      "43/43 [==============================] - 0s 10ms/step - loss: 0.6310 - accuracy: 0.7942 - val_loss: 0.5321 - val_accuracy: 0.8175\n",
      "Epoch 27/1000\n",
      "40/43 [==========================>...] - ETA: 0s - loss: 0.6369 - accuracy: 0.7863\n",
      "Epoch 27: saving model to model/keypoint_classifier\\keypoint_classifier.hdf5\n",
      "43/43 [==============================] - 0s 10ms/step - loss: 0.6287 - accuracy: 0.7891 - val_loss: 0.5216 - val_accuracy: 0.8082\n",
      "Epoch 28/1000\n",
      "42/43 [============================>.] - ETA: 0s - loss: 0.6028 - accuracy: 0.7894\n",
      "Epoch 28: saving model to model/keypoint_classifier\\keypoint_classifier.hdf5\n",
      "43/43 [==============================] - 0s 10ms/step - loss: 0.6029 - accuracy: 0.7902 - val_loss: 0.4523 - val_accuracy: 0.8510\n",
      "Epoch 29/1000\n",
      "39/43 [==========================>...] - ETA: 0s - loss: 0.5988 - accuracy: 0.7975\n",
      "Epoch 29: saving model to model/keypoint_classifier\\keypoint_classifier.hdf5\n",
      "43/43 [==============================] - 0s 10ms/step - loss: 0.6043 - accuracy: 0.7942 - val_loss: 0.4548 - val_accuracy: 0.8504\n",
      "Epoch 30/1000\n",
      "41/43 [===========================>..] - ETA: 0s - loss: 0.5992 - accuracy: 0.7965\n",
      "Epoch 30: saving model to model/keypoint_classifier\\keypoint_classifier.hdf5\n",
      "43/43 [==============================] - 0s 10ms/step - loss: 0.5949 - accuracy: 0.7979 - val_loss: 0.4675 - val_accuracy: 0.8345\n",
      "Epoch 31/1000\n",
      "39/43 [==========================>...] - ETA: 0s - loss: 0.5963 - accuracy: 0.7973\n",
      "Epoch 31: saving model to model/keypoint_classifier\\keypoint_classifier.hdf5\n",
      "43/43 [==============================] - 0s 10ms/step - loss: 0.5901 - accuracy: 0.8003 - val_loss: 0.4241 - val_accuracy: 0.8570\n",
      "Epoch 32/1000\n",
      "37/43 [========================>.....] - ETA: 0s - loss: 0.5683 - accuracy: 0.8079\n",
      "Epoch 32: saving model to model/keypoint_classifier\\keypoint_classifier.hdf5\n",
      "43/43 [==============================] - 0s 10ms/step - loss: 0.5700 - accuracy: 0.8061 - val_loss: 0.5402 - val_accuracy: 0.7934\n",
      "Epoch 33/1000\n",
      "39/43 [==========================>...] - ETA: 0s - loss: 0.5716 - accuracy: 0.8043\n",
      "Epoch 33: saving model to model/keypoint_classifier\\keypoint_classifier.hdf5\n",
      "43/43 [==============================] - 0s 10ms/step - loss: 0.5706 - accuracy: 0.8056 - val_loss: 0.5933 - val_accuracy: 0.8016\n",
      "Epoch 34/1000\n",
      "36/43 [========================>.....] - ETA: 0s - loss: 0.5612 - accuracy: 0.8103\n",
      "Epoch 34: saving model to model/keypoint_classifier\\keypoint_classifier.hdf5\n",
      "43/43 [==============================] - 0s 10ms/step - loss: 0.5585 - accuracy: 0.8116 - val_loss: 0.5082 - val_accuracy: 0.8411\n",
      "Epoch 35/1000\n",
      "37/43 [========================>.....] - ETA: 0s - loss: 0.5385 - accuracy: 0.8207\n",
      "Epoch 35: saving model to model/keypoint_classifier\\keypoint_classifier.hdf5\n",
      "43/43 [==============================] - 0s 10ms/step - loss: 0.5438 - accuracy: 0.8154 - val_loss: 0.6175 - val_accuracy: 0.8022\n",
      "Epoch 36/1000\n",
      "40/43 [==========================>...] - ETA: 0s - loss: 0.5352 - accuracy: 0.8189\n",
      "Epoch 36: saving model to model/keypoint_classifier\\keypoint_classifier.hdf5\n",
      "43/43 [==============================] - 0s 10ms/step - loss: 0.5372 - accuracy: 0.8174 - val_loss: 0.4477 - val_accuracy: 0.8488\n",
      "Epoch 37/1000\n",
      "35/43 [=======================>......] - ETA: 0s - loss: 0.5423 - accuracy: 0.8174\n",
      "Epoch 37: saving model to model/keypoint_classifier\\keypoint_classifier.hdf5\n",
      "43/43 [==============================] - 0s 11ms/step - loss: 0.5428 - accuracy: 0.8173 - val_loss: 0.5612 - val_accuracy: 0.7863\n",
      "Epoch 38/1000\n",
      "39/43 [==========================>...] - ETA: 0s - loss: 0.5206 - accuracy: 0.8295\n",
      "Epoch 38: saving model to model/keypoint_classifier\\keypoint_classifier.hdf5\n",
      "43/43 [==============================] - 0s 10ms/step - loss: 0.5230 - accuracy: 0.8289 - val_loss: 0.4649 - val_accuracy: 0.8460\n",
      "Epoch 39/1000\n",
      "40/43 [==========================>...] - ETA: 0s - loss: 0.5319 - accuracy: 0.8217\n",
      "Epoch 39: saving model to model/keypoint_classifier\\keypoint_classifier.hdf5\n",
      "43/43 [==============================] - 0s 9ms/step - loss: 0.5258 - accuracy: 0.8246 - val_loss: 0.4840 - val_accuracy: 0.8301\n",
      "Epoch 40/1000\n",
      "37/43 [========================>.....] - ETA: 0s - loss: 0.5231 - accuracy: 0.8161\n",
      "Epoch 40: saving model to model/keypoint_classifier\\keypoint_classifier.hdf5\n",
      "43/43 [==============================] - 0s 10ms/step - loss: 0.5248 - accuracy: 0.8180 - val_loss: 0.4930 - val_accuracy: 0.8033\n",
      "Epoch 41/1000\n",
      "39/43 [==========================>...] - ETA: 0s - loss: 0.5204 - accuracy: 0.8239\n",
      "Epoch 41: saving model to model/keypoint_classifier\\keypoint_classifier.hdf5\n",
      "43/43 [==============================] - 0s 10ms/step - loss: 0.5215 - accuracy: 0.8233 - val_loss: 0.4793 - val_accuracy: 0.8307\n",
      "Epoch 42/1000\n",
      "41/43 [===========================>..] - ETA: 0s - loss: 0.5041 - accuracy: 0.8310\n",
      "Epoch 42: saving model to model/keypoint_classifier\\keypoint_classifier.hdf5\n",
      "43/43 [==============================] - 0s 9ms/step - loss: 0.5060 - accuracy: 0.8302 - val_loss: 0.5757 - val_accuracy: 0.8115\n",
      "Epoch 43/1000\n",
      "36/43 [========================>.....] - ETA: 0s - loss: 0.5024 - accuracy: 0.8327\n",
      "Epoch 43: saving model to model/keypoint_classifier\\keypoint_classifier.hdf5\n",
      "43/43 [==============================] - 0s 10ms/step - loss: 0.5018 - accuracy: 0.8339 - val_loss: 0.4665 - val_accuracy: 0.8548\n",
      "Epoch 44/1000\n",
      "40/43 [==========================>...] - ETA: 0s - loss: 0.5058 - accuracy: 0.8271\n",
      "Epoch 44: saving model to model/keypoint_classifier\\keypoint_classifier.hdf5\n",
      "43/43 [==============================] - 0s 9ms/step - loss: 0.5022 - accuracy: 0.8271 - val_loss: 0.4160 - val_accuracy: 0.8581\n",
      "Epoch 45/1000\n",
      "37/43 [========================>.....] - ETA: 0s - loss: 0.4871 - accuracy: 0.8336\n",
      "Epoch 45: saving model to model/keypoint_classifier\\keypoint_classifier.hdf5\n",
      "43/43 [==============================] - 0s 10ms/step - loss: 0.4939 - accuracy: 0.8319 - val_loss: 0.4371 - val_accuracy: 0.8488\n",
      "Epoch 46/1000\n",
      "39/43 [==========================>...] - ETA: 0s - loss: 0.4856 - accuracy: 0.8375\n",
      "Epoch 46: saving model to model/keypoint_classifier\\keypoint_classifier.hdf5\n",
      "43/43 [==============================] - 0s 10ms/step - loss: 0.4845 - accuracy: 0.8366 - val_loss: 0.7516 - val_accuracy: 0.7381\n",
      "Epoch 47/1000\n",
      "40/43 [==========================>...] - ETA: 0s - loss: 0.4845 - accuracy: 0.8346\n",
      "Epoch 47: saving model to model/keypoint_classifier\\keypoint_classifier.hdf5\n",
      "43/43 [==============================] - 0s 10ms/step - loss: 0.4814 - accuracy: 0.8357 - val_loss: 0.4018 - val_accuracy: 0.8625\n",
      "Epoch 48/1000\n",
      "36/43 [========================>.....] - ETA: 0s - loss: 0.4875 - accuracy: 0.8394\n",
      "Epoch 48: saving model to model/keypoint_classifier\\keypoint_classifier.hdf5\n",
      "43/43 [==============================] - 0s 11ms/step - loss: 0.4825 - accuracy: 0.8414 - val_loss: 0.3596 - val_accuracy: 0.8795\n",
      "Epoch 49/1000\n",
      "39/43 [==========================>...] - ETA: 0s - loss: 0.4687 - accuracy: 0.8456\n",
      "Epoch 49: saving model to model/keypoint_classifier\\keypoint_classifier.hdf5\n",
      "43/43 [==============================] - 0s 10ms/step - loss: 0.4719 - accuracy: 0.8436 - val_loss: 0.6126 - val_accuracy: 0.8044\n",
      "Epoch 50/1000\n",
      "37/43 [========================>.....] - ETA: 0s - loss: 0.4644 - accuracy: 0.8484\n",
      "Epoch 50: saving model to model/keypoint_classifier\\keypoint_classifier.hdf5\n",
      "43/43 [==============================] - 0s 10ms/step - loss: 0.4726 - accuracy: 0.8454 - val_loss: 0.4188 - val_accuracy: 0.8652\n",
      "Epoch 51/1000\n",
      "38/43 [=========================>....] - ETA: 0s - loss: 0.4574 - accuracy: 0.8481\n",
      "Epoch 51: saving model to model/keypoint_classifier\\keypoint_classifier.hdf5\n",
      "43/43 [==============================] - 0s 10ms/step - loss: 0.4613 - accuracy: 0.8472 - val_loss: 0.5208 - val_accuracy: 0.7945\n",
      "Epoch 52/1000\n",
      "42/43 [============================>.] - ETA: 0s - loss: 0.4600 - accuracy: 0.8460\n",
      "Epoch 52: saving model to model/keypoint_classifier\\keypoint_classifier.hdf5\n",
      "43/43 [==============================] - 0s 10ms/step - loss: 0.4629 - accuracy: 0.8454 - val_loss: 0.4794 - val_accuracy: 0.8323\n",
      "Epoch 53/1000\n",
      "38/43 [=========================>....] - ETA: 0s - loss: 0.4391 - accuracy: 0.8518\n",
      "Epoch 53: saving model to model/keypoint_classifier\\keypoint_classifier.hdf5\n",
      "43/43 [==============================] - 0s 9ms/step - loss: 0.4472 - accuracy: 0.8496 - val_loss: 0.4045 - val_accuracy: 0.8663\n",
      "Epoch 54/1000\n",
      "41/43 [===========================>..] - ETA: 0s - loss: 0.4520 - accuracy: 0.8518\n",
      "Epoch 54: saving model to model/keypoint_classifier\\keypoint_classifier.hdf5\n",
      "43/43 [==============================] - 0s 10ms/step - loss: 0.4506 - accuracy: 0.8525 - val_loss: 0.3944 - val_accuracy: 0.8707\n",
      "Epoch 55/1000\n",
      "37/43 [========================>.....] - ETA: 0s - loss: 0.4456 - accuracy: 0.8556\n",
      "Epoch 55: saving model to model/keypoint_classifier\\keypoint_classifier.hdf5\n",
      "43/43 [==============================] - 0s 9ms/step - loss: 0.4469 - accuracy: 0.8558 - val_loss: 0.3856 - val_accuracy: 0.8822\n",
      "Epoch 56/1000\n",
      "41/43 [===========================>..] - ETA: 0s - loss: 0.4509 - accuracy: 0.8493\n",
      "Epoch 56: saving model to model/keypoint_classifier\\keypoint_classifier.hdf5\n",
      "43/43 [==============================] - 0s 10ms/step - loss: 0.4470 - accuracy: 0.8498 - val_loss: 0.6257 - val_accuracy: 0.7879\n",
      "Epoch 57/1000\n",
      "38/43 [=========================>....] - ETA: 0s - loss: 0.4413 - accuracy: 0.8507\n",
      "Epoch 57: saving model to model/keypoint_classifier\\keypoint_classifier.hdf5\n",
      "43/43 [==============================] - 0s 10ms/step - loss: 0.4445 - accuracy: 0.8518 - val_loss: 0.4303 - val_accuracy: 0.8542\n",
      "Epoch 58/1000\n",
      "43/43 [==============================] - ETA: 0s - loss: 0.4172 - accuracy: 0.8637\n",
      "Epoch 58: saving model to model/keypoint_classifier\\keypoint_classifier.hdf5\n",
      "43/43 [==============================] - 0s 11ms/step - loss: 0.4172 - accuracy: 0.8637 - val_loss: 0.3909 - val_accuracy: 0.8696\n",
      "Epoch 59/1000\n",
      "40/43 [==========================>...] - ETA: 0s - loss: 0.4360 - accuracy: 0.8547\n",
      "Epoch 59: saving model to model/keypoint_classifier\\keypoint_classifier.hdf5\n",
      "43/43 [==============================] - 0s 10ms/step - loss: 0.4362 - accuracy: 0.8556 - val_loss: 0.4022 - val_accuracy: 0.8625\n",
      "Epoch 60/1000\n",
      "40/43 [==========================>...] - ETA: 0s - loss: 0.4427 - accuracy: 0.8496\n",
      "Epoch 60: saving model to model/keypoint_classifier\\keypoint_classifier.hdf5\n",
      "43/43 [==============================] - 0s 10ms/step - loss: 0.4416 - accuracy: 0.8485 - val_loss: 0.4546 - val_accuracy: 0.8367\n",
      "Epoch 61/1000\n",
      "42/43 [============================>.] - ETA: 0s - loss: 0.4404 - accuracy: 0.8523\n",
      "Epoch 61: saving model to model/keypoint_classifier\\keypoint_classifier.hdf5\n",
      "43/43 [==============================] - 0s 9ms/step - loss: 0.4421 - accuracy: 0.8523 - val_loss: 0.5215 - val_accuracy: 0.8367\n",
      "Epoch 62/1000\n",
      "37/43 [========================>.....] - ETA: 0s - loss: 0.4408 - accuracy: 0.8537\n",
      "Epoch 62: saving model to model/keypoint_classifier\\keypoint_classifier.hdf5\n",
      "43/43 [==============================] - 0s 10ms/step - loss: 0.4410 - accuracy: 0.8538 - val_loss: 0.4376 - val_accuracy: 0.8460\n",
      "Epoch 63/1000\n",
      "39/43 [==========================>...] - ETA: 0s - loss: 0.4234 - accuracy: 0.8586\n",
      "Epoch 63: saving model to model/keypoint_classifier\\keypoint_classifier.hdf5\n",
      "43/43 [==============================] - 0s 10ms/step - loss: 0.4254 - accuracy: 0.8576 - val_loss: 0.4837 - val_accuracy: 0.8197\n",
      "Epoch 64/1000\n",
      "36/43 [========================>.....] - ETA: 0s - loss: 0.4210 - accuracy: 0.8542\n",
      "Epoch 64: saving model to model/keypoint_classifier\\keypoint_classifier.hdf5\n",
      "43/43 [==============================] - 0s 11ms/step - loss: 0.4365 - accuracy: 0.8485 - val_loss: 0.5748 - val_accuracy: 0.8137\n",
      "Epoch 65/1000\n",
      "39/43 [==========================>...] - ETA: 0s - loss: 0.4055 - accuracy: 0.8590\n",
      "Epoch 65: saving model to model/keypoint_classifier\\keypoint_classifier.hdf5\n",
      "43/43 [==============================] - 0s 11ms/step - loss: 0.4091 - accuracy: 0.8591 - val_loss: 0.3350 - val_accuracy: 0.8937\n",
      "Epoch 66/1000\n",
      "37/43 [========================>.....] - ETA: 0s - loss: 0.4356 - accuracy: 0.8564\n",
      "Epoch 66: saving model to model/keypoint_classifier\\keypoint_classifier.hdf5\n",
      "43/43 [==============================] - 0s 10ms/step - loss: 0.4290 - accuracy: 0.8589 - val_loss: 0.3363 - val_accuracy: 0.9003\n",
      "Epoch 67/1000\n",
      "39/43 [==========================>...] - ETA: 0s - loss: 0.3977 - accuracy: 0.8618\n",
      "Epoch 67: saving model to model/keypoint_classifier\\keypoint_classifier.hdf5\n",
      "43/43 [==============================] - 0s 10ms/step - loss: 0.4025 - accuracy: 0.8611 - val_loss: 0.5807 - val_accuracy: 0.8104\n",
      "Epoch 68/1000\n",
      "36/43 [========================>.....] - ETA: 0s - loss: 0.4153 - accuracy: 0.8611\n",
      "Epoch 68: saving model to model/keypoint_classifier\\keypoint_classifier.hdf5\n",
      "43/43 [==============================] - 0s 10ms/step - loss: 0.4215 - accuracy: 0.8593 - val_loss: 0.6315 - val_accuracy: 0.7803\n",
      "Epoch 69/1000\n",
      "38/43 [=========================>....] - ETA: 0s - loss: 0.4230 - accuracy: 0.8559\n",
      "Epoch 69: saving model to model/keypoint_classifier\\keypoint_classifier.hdf5\n",
      "43/43 [==============================] - 0s 11ms/step - loss: 0.4180 - accuracy: 0.8591 - val_loss: 0.4110 - val_accuracy: 0.8658\n",
      "Epoch 70/1000\n",
      "41/43 [===========================>..] - ETA: 0s - loss: 0.3982 - accuracy: 0.8695\n",
      "Epoch 70: saving model to model/keypoint_classifier\\keypoint_classifier.hdf5\n",
      "43/43 [==============================] - 0s 10ms/step - loss: 0.4032 - accuracy: 0.8682 - val_loss: 0.3921 - val_accuracy: 0.8723\n",
      "Epoch 71/1000\n",
      "35/43 [=======================>......] - ETA: 0s - loss: 0.3989 - accuracy: 0.8625\n",
      "Epoch 71: saving model to model/keypoint_classifier\\keypoint_classifier.hdf5\n",
      "43/43 [==============================] - 0s 10ms/step - loss: 0.3963 - accuracy: 0.8648 - val_loss: 0.5303 - val_accuracy: 0.8362\n",
      "Epoch 72/1000\n",
      "35/43 [=======================>......] - ETA: 0s - loss: 0.3980 - accuracy: 0.8605\n",
      "Epoch 72: saving model to model/keypoint_classifier\\keypoint_classifier.hdf5\n",
      "43/43 [==============================] - 0s 10ms/step - loss: 0.4041 - accuracy: 0.8607 - val_loss: 0.4336 - val_accuracy: 0.8625\n",
      "Epoch 73/1000\n",
      "39/43 [==========================>...] - ETA: 0s - loss: 0.4045 - accuracy: 0.8666\n",
      "Epoch 73: saving model to model/keypoint_classifier\\keypoint_classifier.hdf5\n",
      "43/43 [==============================] - 0s 10ms/step - loss: 0.4043 - accuracy: 0.8666 - val_loss: 0.3962 - val_accuracy: 0.8592\n",
      "Epoch 74/1000\n",
      "38/43 [=========================>....] - ETA: 0s - loss: 0.4134 - accuracy: 0.8620\n",
      "Epoch 74: saving model to model/keypoint_classifier\\keypoint_classifier.hdf5\n",
      "43/43 [==============================] - 0s 10ms/step - loss: 0.4110 - accuracy: 0.8644 - val_loss: 0.4148 - val_accuracy: 0.8532\n",
      "Epoch 75/1000\n",
      "38/43 [=========================>....] - ETA: 0s - loss: 0.3979 - accuracy: 0.8672\n",
      "Epoch 75: saving model to model/keypoint_classifier\\keypoint_classifier.hdf5\n",
      "43/43 [==============================] - 0s 10ms/step - loss: 0.4020 - accuracy: 0.8671 - val_loss: 0.3738 - val_accuracy: 0.8844\n",
      "Epoch 76/1000\n",
      "36/43 [========================>.....] - ETA: 0s - loss: 0.3838 - accuracy: 0.8687\n",
      "Epoch 76: saving model to model/keypoint_classifier\\keypoint_classifier.hdf5\n",
      "43/43 [==============================] - 0s 10ms/step - loss: 0.3821 - accuracy: 0.8699 - val_loss: 0.4651 - val_accuracy: 0.8427\n",
      "Epoch 77/1000\n",
      "42/43 [============================>.] - ETA: 0s - loss: 0.3824 - accuracy: 0.8644\n",
      "Epoch 77: saving model to model/keypoint_classifier\\keypoint_classifier.hdf5\n",
      "43/43 [==============================] - 0s 9ms/step - loss: 0.3853 - accuracy: 0.8642 - val_loss: 0.3486 - val_accuracy: 0.8838\n",
      "Epoch 78/1000\n",
      "39/43 [==========================>...] - ETA: 0s - loss: 0.3760 - accuracy: 0.8710\n",
      "Epoch 78: saving model to model/keypoint_classifier\\keypoint_classifier.hdf5\n",
      "43/43 [==============================] - 0s 10ms/step - loss: 0.3764 - accuracy: 0.8695 - val_loss: 0.3621 - val_accuracy: 0.8740\n",
      "Epoch 79/1000\n",
      "37/43 [========================>.....] - ETA: 0s - loss: 0.4150 - accuracy: 0.8651\n",
      "Epoch 79: saving model to model/keypoint_classifier\\keypoint_classifier.hdf5\n",
      "43/43 [==============================] - 0s 10ms/step - loss: 0.4108 - accuracy: 0.8655 - val_loss: 0.3353 - val_accuracy: 0.8888\n",
      "Epoch 80/1000\n",
      "38/43 [=========================>....] - ETA: 0s - loss: 0.3832 - accuracy: 0.8682\n",
      "Epoch 80: saving model to model/keypoint_classifier\\keypoint_classifier.hdf5\n",
      "43/43 [==============================] - 0s 10ms/step - loss: 0.3877 - accuracy: 0.8668 - val_loss: 0.4225 - val_accuracy: 0.8663\n",
      "Epoch 81/1000\n",
      "38/43 [=========================>....] - ETA: 0s - loss: 0.3758 - accuracy: 0.8740\n",
      "Epoch 81: saving model to model/keypoint_classifier\\keypoint_classifier.hdf5\n",
      "43/43 [==============================] - 0s 10ms/step - loss: 0.3731 - accuracy: 0.8717 - val_loss: 0.4758 - val_accuracy: 0.8367\n",
      "Epoch 82/1000\n",
      "38/43 [=========================>....] - ETA: 0s - loss: 0.4002 - accuracy: 0.8592\n",
      "Epoch 82: saving model to model/keypoint_classifier\\keypoint_classifier.hdf5\n",
      "43/43 [==============================] - 0s 10ms/step - loss: 0.3907 - accuracy: 0.8624 - val_loss: 0.5786 - val_accuracy: 0.7918\n",
      "Epoch 83/1000\n",
      "38/43 [=========================>....] - ETA: 0s - loss: 0.3818 - accuracy: 0.8672\n",
      "Epoch 83: saving model to model/keypoint_classifier\\keypoint_classifier.hdf5\n",
      "43/43 [==============================] - 0s 10ms/step - loss: 0.3800 - accuracy: 0.8679 - val_loss: 0.3081 - val_accuracy: 0.9008\n",
      "Epoch 84/1000\n",
      "40/43 [==========================>...] - ETA: 0s - loss: 0.3788 - accuracy: 0.8670\n",
      "Epoch 84: saving model to model/keypoint_classifier\\keypoint_classifier.hdf5\n",
      "43/43 [==============================] - 0s 10ms/step - loss: 0.3786 - accuracy: 0.8681 - val_loss: 0.3297 - val_accuracy: 0.8921\n",
      "Epoch 85/1000\n",
      "40/43 [==========================>...] - ETA: 0s - loss: 0.3723 - accuracy: 0.8730\n",
      "Epoch 85: saving model to model/keypoint_classifier\\keypoint_classifier.hdf5\n",
      "43/43 [==============================] - 0s 10ms/step - loss: 0.3756 - accuracy: 0.8721 - val_loss: 0.4644 - val_accuracy: 0.8422\n",
      "Epoch 86/1000\n",
      "38/43 [=========================>....] - ETA: 0s - loss: 0.3697 - accuracy: 0.8731\n",
      "Epoch 86: saving model to model/keypoint_classifier\\keypoint_classifier.hdf5\n",
      "43/43 [==============================] - 0s 10ms/step - loss: 0.3740 - accuracy: 0.8702 - val_loss: 0.3417 - val_accuracy: 0.8816\n",
      "Epoch 87/1000\n",
      "38/43 [=========================>....] - ETA: 0s - loss: 0.3809 - accuracy: 0.8694\n",
      "Epoch 87: saving model to model/keypoint_classifier\\keypoint_classifier.hdf5\n",
      "43/43 [==============================] - 0s 10ms/step - loss: 0.3826 - accuracy: 0.8675 - val_loss: 0.4776 - val_accuracy: 0.8296\n",
      "Epoch 88/1000\n",
      "43/43 [==============================] - ETA: 0s - loss: 0.3733 - accuracy: 0.8743\n",
      "Epoch 88: saving model to model/keypoint_classifier\\keypoint_classifier.hdf5\n",
      "43/43 [==============================] - 0s 10ms/step - loss: 0.3733 - accuracy: 0.8743 - val_loss: 0.4221 - val_accuracy: 0.8701\n",
      "Epoch 89/1000\n",
      "39/43 [==========================>...] - ETA: 0s - loss: 0.3850 - accuracy: 0.8724\n",
      "Epoch 89: saving model to model/keypoint_classifier\\keypoint_classifier.hdf5\n",
      "43/43 [==============================] - 0s 10ms/step - loss: 0.3829 - accuracy: 0.8723 - val_loss: 0.3860 - val_accuracy: 0.8696\n",
      "Epoch 90/1000\n",
      "35/43 [=======================>......] - ETA: 0s - loss: 0.3698 - accuracy: 0.8741\n",
      "Epoch 90: saving model to model/keypoint_classifier\\keypoint_classifier.hdf5\n",
      "43/43 [==============================] - 0s 10ms/step - loss: 0.3732 - accuracy: 0.8728 - val_loss: 0.3279 - val_accuracy: 0.8970\n",
      "Epoch 91/1000\n",
      "38/43 [=========================>....] - ETA: 0s - loss: 0.3587 - accuracy: 0.8746\n",
      "Epoch 91: saving model to model/keypoint_classifier\\keypoint_classifier.hdf5\n",
      "43/43 [==============================] - 0s 10ms/step - loss: 0.3623 - accuracy: 0.8734 - val_loss: 0.3956 - val_accuracy: 0.8647\n",
      "Epoch 92/1000\n",
      "40/43 [==========================>...] - ETA: 0s - loss: 0.3723 - accuracy: 0.8727\n",
      "Epoch 92: saving model to model/keypoint_classifier\\keypoint_classifier.hdf5\n",
      "43/43 [==============================] - 0s 10ms/step - loss: 0.3683 - accuracy: 0.8739 - val_loss: 0.4058 - val_accuracy: 0.8663\n",
      "Epoch 93/1000\n",
      "36/43 [========================>.....] - ETA: 0s - loss: 0.3518 - accuracy: 0.8767\n",
      "Epoch 93: saving model to model/keypoint_classifier\\keypoint_classifier.hdf5\n",
      "43/43 [==============================] - 0s 10ms/step - loss: 0.3511 - accuracy: 0.8783 - val_loss: 0.5167 - val_accuracy: 0.7962\n",
      "Epoch 94/1000\n",
      "38/43 [=========================>....] - ETA: 0s - loss: 0.3711 - accuracy: 0.8750\n",
      "Epoch 94: saving model to model/keypoint_classifier\\keypoint_classifier.hdf5\n",
      "43/43 [==============================] - 0s 10ms/step - loss: 0.3706 - accuracy: 0.8754 - val_loss: 0.3413 - val_accuracy: 0.8784\n",
      "Epoch 95/1000\n",
      "38/43 [=========================>....] - ETA: 0s - loss: 0.3645 - accuracy: 0.8701\n",
      "Epoch 95: saving model to model/keypoint_classifier\\keypoint_classifier.hdf5\n",
      "43/43 [==============================] - 0s 10ms/step - loss: 0.3677 - accuracy: 0.8701 - val_loss: 0.4906 - val_accuracy: 0.8247\n",
      "Epoch 96/1000\n",
      "38/43 [=========================>....] - ETA: 0s - loss: 0.3706 - accuracy: 0.8793\n",
      "Epoch 96: saving model to model/keypoint_classifier\\keypoint_classifier.hdf5\n",
      "43/43 [==============================] - 0s 10ms/step - loss: 0.3660 - accuracy: 0.8807 - val_loss: 0.3976 - val_accuracy: 0.8679\n",
      "Epoch 97/1000\n",
      "34/43 [======================>.......] - ETA: 0s - loss: 0.3441 - accuracy: 0.8803\n",
      "Epoch 97: saving model to model/keypoint_classifier\\keypoint_classifier.hdf5\n",
      "43/43 [==============================] - 0s 10ms/step - loss: 0.3445 - accuracy: 0.8814 - val_loss: 0.5144 - val_accuracy: 0.8367\n",
      "Epoch 98/1000\n",
      "40/43 [==========================>...] - ETA: 0s - loss: 0.3666 - accuracy: 0.8719\n",
      "Epoch 98: saving model to model/keypoint_classifier\\keypoint_classifier.hdf5\n",
      "43/43 [==============================] - 0s 10ms/step - loss: 0.3693 - accuracy: 0.8717 - val_loss: 0.4526 - val_accuracy: 0.8411\n",
      "Epoch 99/1000\n",
      "36/43 [========================>.....] - ETA: 0s - loss: 0.3604 - accuracy: 0.8761\n",
      "Epoch 99: saving model to model/keypoint_classifier\\keypoint_classifier.hdf5\n",
      "43/43 [==============================] - 0s 10ms/step - loss: 0.3646 - accuracy: 0.8746 - val_loss: 0.4098 - val_accuracy: 0.8510\n",
      "Epoch 100/1000\n",
      "34/43 [======================>.......] - ETA: 0s - loss: 0.3560 - accuracy: 0.8759\n",
      "Epoch 100: saving model to model/keypoint_classifier\\keypoint_classifier.hdf5\n",
      "43/43 [==============================] - 0s 10ms/step - loss: 0.3484 - accuracy: 0.8790 - val_loss: 0.4062 - val_accuracy: 0.8630\n",
      "Epoch 101/1000\n",
      "39/43 [==========================>...] - ETA: 0s - loss: 0.3556 - accuracy: 0.8788\n",
      "Epoch 101: saving model to model/keypoint_classifier\\keypoint_classifier.hdf5\n",
      "43/43 [==============================] - 0s 10ms/step - loss: 0.3552 - accuracy: 0.8788 - val_loss: 0.3530 - val_accuracy: 0.8789\n",
      "Epoch 102/1000\n",
      "38/43 [=========================>....] - ETA: 0s - loss: 0.3541 - accuracy: 0.8738\n",
      "Epoch 102: saving model to model/keypoint_classifier\\keypoint_classifier.hdf5\n",
      "43/43 [==============================] - 0s 10ms/step - loss: 0.3500 - accuracy: 0.8763 - val_loss: 0.3565 - val_accuracy: 0.8816\n",
      "Epoch 103/1000\n",
      "37/43 [========================>.....] - ETA: 0s - loss: 0.3536 - accuracy: 0.8752\n",
      "Epoch 103: saving model to model/keypoint_classifier\\keypoint_classifier.hdf5\n",
      "43/43 [==============================] - 0s 10ms/step - loss: 0.3554 - accuracy: 0.8745 - val_loss: 0.3974 - val_accuracy: 0.8619\n",
      "Epoch 103: early stopping\n"
     ]
    },
    {
     "data": {
      "text/plain": [
       "<keras.src.callbacks.History at 0x1eb5ec08a50>"
      ]
     },
     "execution_count": 16,
     "metadata": {},
     "output_type": "execute_result"
    }
   ],
   "source": [
    "model.fit(\n",
    "    X_train,\n",
    "    y_train,\n",
    "    epochs=1000,\n",
    "    batch_size=128,\n",
    "    validation_data=(X_test, y_test),\n",
    "    callbacks=[cp_callback, es_callback]\n",
    ")"
   ]
  },
  {
   "cell_type": "code",
   "execution_count": 17,
   "metadata": {
    "colab": {
     "base_uri": "https://localhost:8080/"
    },
    "id": "pxvb2Y299hE3",
    "outputId": "59eb3185-2e37-4b9e-bc9d-ab1b8ac29b7f"
   },
   "outputs": [
    {
     "name": "stdout",
     "output_type": "stream",
     "text": [
      "15/15 [==============================] - 0s 4ms/step - loss: 0.3974 - accuracy: 0.8619\n"
     ]
    }
   ],
   "source": [
    "# Model evaluation\n",
    "val_loss, val_acc = model.evaluate(X_test, y_test, batch_size=128)"
   ]
  },
  {
   "cell_type": "code",
   "execution_count": 18,
   "metadata": {
    "id": "RBkmDeUW9hE4"
   },
   "outputs": [],
   "source": [
    "# Loading the saved model\n",
    "model = tf.keras.models.load_model(model_save_path)"
   ]
  },
  {
   "cell_type": "code",
   "execution_count": 19,
   "metadata": {
    "colab": {
     "base_uri": "https://localhost:8080/"
    },
    "id": "tFz9Tb0I9hE4",
    "outputId": "1c3b3528-54ae-4ee2-ab04-77429211cbef"
   },
   "outputs": [
    {
     "name": "stdout",
     "output_type": "stream",
     "text": [
      "1/1 [==============================] - 0s 318ms/step\n",
      "[3.3504504e-04 1.2183966e-05 1.0788570e-05 2.6081218e-06 1.3160030e-07\n",
      " 3.9735762e-04 9.7387488e-07 4.6120340e-06 8.7949513e-03 6.6413006e-05\n",
      " 4.8382083e-04 4.0414002e-07 4.6430704e-01 3.9000741e-05 3.9896707e-04\n",
      " 1.0313780e-06 5.3254543e-03 2.8765498e-04 5.5490142e-05 1.6314752e-04\n",
      " 5.1085126e-01 1.7372484e-05 1.5108137e-05 8.4292470e-03]\n",
      "20\n"
     ]
    }
   ],
   "source": [
    "# Inference test\n",
    "predict_result = model.predict(np.array([X_test[0]]))\n",
    "print(np.squeeze(predict_result))\n",
    "print(np.argmax(np.squeeze(predict_result)))"
   ]
  },
  {
   "cell_type": "markdown",
   "metadata": {
    "id": "S3U4yNWx9hE4"
   },
   "source": [
    "# Confusion matrix"
   ]
  },
  {
   "cell_type": "code",
   "execution_count": 20,
   "metadata": {
    "colab": {
     "base_uri": "https://localhost:8080/",
     "height": 582
    },
    "id": "AP1V6SCk9hE5",
    "outputId": "08e41a80-7a4a-4619-8125-ecc371368d19"
   },
   "outputs": [
    {
     "name": "stdout",
     "output_type": "stream",
     "text": [
      "58/58 [==============================] - 0s 3ms/step\n"
     ]
    },
    {
     "data": {
      "image/png": "[encoded data removed]",
      "text/plain": [
       "<Figure size 700x600 with 2 Axes>"
      ]
     },
     "metadata": {},
     "output_type": "display_data"
    },
    {
     "name": "stdout",
     "output_type": "stream",
     "text": [
      "Classification Report\n",
      "              precision    recall  f1-score   support\n",
      "\n",
      "           0       0.97      0.97      0.97       148\n",
      "           1       0.86      0.81      0.83        31\n",
      "           2       0.91      0.85      0.88       124\n",
      "           3       0.93      0.65      0.77        66\n",
      "           4       0.86      0.89      0.88       115\n",
      "           5       0.89      0.93      0.91        68\n",
      "           6       0.99      0.82      0.90        84\n",
      "           7       0.70      0.96      0.81        78\n",
      "           8       1.00      0.97      0.98        58\n",
      "           9       0.83      0.99      0.90        73\n",
      "          10       0.83      0.89      0.86        75\n",
      "          11       0.90      0.98      0.94        54\n",
      "          12       0.00      0.00      0.00        71\n",
      "          13       0.88      0.83      0.85        76\n",
      "          14       0.92      1.00      0.96        60\n",
      "          15       0.87      0.52      0.65        52\n",
      "          16       0.93      0.99      0.96        90\n",
      "          17       0.96      1.00      0.98        90\n",
      "          18       0.91      0.98      0.94        89\n",
      "          19       0.84      0.85      0.85        96\n",
      "          20       0.42      0.98      0.59        56\n",
      "          21       0.97      0.80      0.88        85\n",
      "          22       0.96      0.96      0.96        73\n",
      "          23       0.90      0.69      0.78        13\n",
      "\n",
      "    accuracy                           0.86      1825\n",
      "   macro avg       0.84      0.85      0.83      1825\n",
      "weighted avg       0.85      0.86      0.85      1825\n",
      "\n"
     ]
    }
   ],
   "source": [
    "import pandas as pd\n",
    "import seaborn as sns\n",
    "import matplotlib.pyplot as plt\n",
    "from sklearn.metrics import confusion_matrix, classification_report\n",
    "\n",
    "def print_confusion_matrix(y_true, y_pred, report=True):\n",
    "    labels = sorted(list(set(y_true)))\n",
    "    cmx_data = confusion_matrix(y_true, y_pred, labels=labels)\n",
    "    \n",
    "    df_cmx = pd.DataFrame(cmx_data, index=labels, columns=labels)\n",
    " \n",
    "    fig, ax = plt.subplots(figsize=(7, 6))\n",
    "    sns.heatmap(df_cmx, annot=True, fmt='g' ,square=False)\n",
    "    ax.set_ylim(len(set(y_true)), 0)\n",
    "    plt.show()\n",
    "    \n",
    "    if report:\n",
    "        print('Classification Report')\n",
    "        print(classification_report(y_test, y_pred))\n",
    "\n",
    "Y_pred = model.predict(X_test)\n",
    "y_pred = np.argmax(Y_pred, axis=1)\n",
    "\n",
    "print_confusion_matrix(y_test, y_pred)"
   ]
  },
  {
   "cell_type": "markdown",
   "metadata": {
    "id": "FNP6aqzc9hE5"
   },
   "source": [
    "# Convert to model for Tensorflow-Lite"
   ]
  },
  {
   "cell_type": "code",
   "execution_count": 21,
   "metadata": {
    "id": "ODjnYyld9hE6"
   },
   "outputs": [
    {
     "name": "stderr",
     "output_type": "stream",
     "text": [
      "C:\\Users\\metua\\anaconda3\\Lib\\site-packages\\keras\\src\\engine\\training.py:3103: UserWarning: You are saving your model as an HDF5 file via `model.save()`. This file format is considered legacy. We recommend using instead the native Keras format, e.g. `model.save('my_model.keras')`.\n",
      "  saving_api.save_model(\n"
     ]
    }
   ],
   "source": [
    "# Save as a model dedicated to inference\n",
    "model.save(model_save_path, include_optimizer=False)"
   ]
  },
  {
   "cell_type": "code",
   "execution_count": 22,
   "metadata": {
    "colab": {
     "base_uri": "https://localhost:8080/"
    },
    "id": "zRfuK8Y59hE6",
    "outputId": "a4ca585c-b5d5-4244-8291-8674063209bb"
   },
   "outputs": [
    {
     "name": "stdout",
     "output_type": "stream",
     "text": [
      "INFO:tensorflow:Assets written to: C:\\Users\\metua\\AppData\\Local\\Temp\\tmpqw74qt5e\\assets\n"
     ]
    },
    {
     "name": "stderr",
     "output_type": "stream",
     "text": [
      "INFO:tensorflow:Assets written to: C:\\Users\\metua\\AppData\\Local\\Temp\\tmpqw74qt5e\\assets\n"
     ]
    },
    {
     "data": {
      "text/plain": [
       "18976"
      ]
     },
     "execution_count": 22,
     "metadata": {},
     "output_type": "execute_result"
    }
   ],
   "source": [
    "# Transform model (quantization)\n",
    "\n",
    "converter = tf.lite.TFLiteConverter.from_keras_model(model)\n",
    "converter.optimizations = [tf.lite.Optimize.DEFAULT]\n",
    "tflite_quantized_model = converter.convert()\n",
    "\n",
    "open(tflite_save_path, 'wb').write(tflite_quantized_model)"
   ]
  },
  {
   "cell_type": "markdown",
   "metadata": {
    "id": "CHBPBXdx9hE6"
   },
   "source": [
    "# Inference test"
   ]
  },
  {
   "cell_type": "code",
   "execution_count": 23,
   "metadata": {
    "id": "mGAzLocO9hE7"
   },
   "outputs": [],
   "source": [
    "interpreter = tf.lite.Interpreter(model_path=tflite_save_path)\n",
    "interpreter.allocate_tensors()"
   ]
  },
  {
   "cell_type": "code",
   "execution_count": 24,
   "metadata": {
    "id": "oQuDK8YS9hE7"
   },
   "outputs": [],
   "source": [
    "# Get I / O tensor\n",
    "input_details = interpreter.get_input_details()\n",
    "output_details = interpreter.get_output_details()"
   ]
  },
  {
   "cell_type": "code",
   "execution_count": 25,
   "metadata": {
    "id": "2_ixAf_l9hE7"
   },
   "outputs": [],
   "source": [
    "interpreter.set_tensor(input_details[0]['index'], np.array([X_test[0]]))"
   ]
  },
  {
   "cell_type": "code",
   "execution_count": 26,
   "metadata": {
    "colab": {
     "base_uri": "https://localhost:8080/"
    },
    "id": "s4FoAnuc9hE7",
    "outputId": "91f18257-8d8b-4ef3-c558-e9b5f94fabbf",
    "scrolled": true
   },
   "outputs": [
    {
     "name": "stdout",
     "output_type": "stream",
     "text": [
      "CPU times: total: 0 ns\n",
      "Wall time: 0 ns\n"
     ]
    }
   ],
   "source": [
    "%%time\n",
    "# Inference implementation\n",
    "interpreter.invoke()\n",
    "tflite_results = interpreter.get_tensor(output_details[0]['index'])"
   ]
  },
  {
   "cell_type": "code",
   "execution_count": 27,
   "metadata": {
    "colab": {
     "base_uri": "https://localhost:8080/"
    },
    "id": "vONjp19J9hE8",
    "outputId": "77205e24-fd00-42c4-f7b6-e06e527c2cba"
   },
   "outputs": [
    {
     "name": "stdout",
     "output_type": "stream",
     "text": [
      "[4.88490157e-04 2.43501872e-05 2.28082517e-05 4.76266587e-06\n",
      " 3.03970666e-07 6.81421661e-04 1.83430382e-06 9.24101096e-06\n",
      " 1.03000337e-02 1.45809929e-04 6.83840481e-04 9.02415877e-07\n",
      " 4.65038359e-01 5.66572598e-05 7.72370666e-04 2.28341787e-06\n",
      " 9.15917754e-03 4.13127709e-04 1.01500824e-04 2.27384371e-04\n",
      " 5.01604795e-01 3.19579412e-05 2.95440914e-05 1.01990523e-02]\n",
      "20\n"
     ]
    }
   ],
   "source": [
    "print(np.squeeze(tflite_results))\n",
    "print(np.argmax(np.squeeze(tflite_results)))"
   ]
  },
  {
   "cell_type": "code",
   "execution_count": null,
   "metadata": {},
   "outputs": [],
   "source": []
  }
 ],
 "metadata": {
  "accelerator": "GPU",
  "colab": {
   "collapsed_sections": [],
   "name": "keypoint_classification_EN.ipynb",
   "provenance": [],
   "toc_visible": true
  },
  "kernelspec": {
   "display_name": "Python 3 (ipykernel)",
   "language": "python",
   "name": "python3"
  },
  "language_info": {
   "codemirror_mode": {
    "name": "ipython",
    "version": 3
   },
   "file_extension": ".py",
   "mimetype": "text/x-python",
   "name": "python",
   "nbconvert_exporter": "python",
   "pygments_lexer": "ipython3",
   "version": "3.11.7"
  }
 },
 "nbformat": 4,
 "nbformat_minor": 4
}
